{
 "cells": [
  {
   "cell_type": "code",
   "execution_count": 5,
   "metadata": {},
   "outputs": [],
   "source": [
    "import preprocessing\n",
    "from sentence_transformers import SentenceTransformer"
   ]
  },
  {
   "cell_type": "code",
   "execution_count": 6,
   "metadata": {},
   "outputs": [],
   "source": [
    "campaigns = preprocessing.load_campaign()\n",
    "users = preprocessing.load_user_data()"
   ]
  },
  {
   "cell_type": "code",
   "execution_count": 7,
   "metadata": {},
   "outputs": [
    {
     "name": "stderr",
     "output_type": "stream",
     "text": [
      "100%|██████████| 75/75 [00:25<00:00,  2.89it/s]\n"
     ]
    }
   ],
   "source": [
    "all_cascades = preprocessing.process_campaign(campaigns)"
   ]
  },
  {
   "cell_type": "code",
   "execution_count": 8,
   "metadata": {},
   "outputs": [],
   "source": [
    "roots = [x.root for x in all_cascades]"
   ]
  },
  {
   "cell_type": "markdown",
   "metadata": {},
   "source": [
    "# Load Pre-Trained Model"
   ]
  },
  {
   "cell_type": "code",
   "execution_count": 9,
   "metadata": {},
   "outputs": [
    {
     "name": "stderr",
     "output_type": "stream",
     "text": [
      "100%|██████████| 1.01G/1.01G [00:35<00:00, 28.5MB/s]\n"
     ]
    }
   ],
   "source": [
    "model = SentenceTransformer('xlm-r-100langs-bert-base-nli-stsb-mean-tokens')"
   ]
  },
  {
   "cell_type": "code",
   "execution_count": 11,
   "metadata": {},
   "outputs": [
    {
     "name": "stdout",
     "output_type": "stream",
     "text": [
      "# defining some directories for posterity\r\n",
      "TWITTER_DATA_DIR = '/home/jschless/whatsapp/data/twitter-coordination-src/data'\r\n",
      "\r\n",
      "FOLLOWER_DATA_DIR = '/home/jschless/whatsapp/data/FOLLOWER_NETWORK'\r\n",
      "CASCADE_DIR = '/home/jschless/whatsapp/data/cascades/'\r\n",
      "RESULTS_DIR = '/home/jschless/whatsapp/data/results/'\r\n",
      "TRENDS_DIR = '/home/jschless/whatsapp/data/trends/'\r\n",
      "MISC_DIR = '/home/jschless/whatsapp/data/misc/'\r\n"
     ]
    }
   ],
   "source": [
    "cat config.py"
   ]
  },
  {
   "cell_type": "code",
   "execution_count": 12,
   "metadata": {},
   "outputs": [],
   "source": [
    "from config import TWITTER_DATA_DIR"
   ]
  },
  {
   "cell_type": "code",
   "execution_count": 16,
   "metadata": {
    "collapsed": true
   },
   "outputs": [],
   "source": [
    "import os, pickle"
   ]
  },
  {
   "cell_type": "code",
   "execution_count": 17,
   "metadata": {
    "collapsed": true
   },
   "outputs": [],
   "source": [
    "with open(os.path.join(TWITTER_DATA_DIR, 'cascade_root_ids.pkl'), 'wb') as f:\n",
    "    pickle.dump([x.id for x in roots], f)"
   ]
  },
  {
   "cell_type": "code",
   "execution_count": 21,
   "metadata": {},
   "outputs": [
    {
     "data": {
      "text/plain": [
       "'टाइगर आज झारखंड के दौरे पर पहुँच चुके हैं। #modiinjharkhand @narendramodi #jharkhandwithmodi #namoagain https://t.co/2mdjsyz7ks'"
      ]
     },
     "execution_count": 21,
     "metadata": {},
     "output_type": "execute_result"
    }
   ],
   "source": [
    "roots[0].text"
   ]
  },
  {
   "cell_type": "code",
   "execution_count": null,
   "metadata": {
    "collapsed": true
   },
   "outputs": [],
   "source": [
    "corpus_embeddings = model.encode([x.text for x in roots])"
   ]
  },
  {
   "cell_type": "code",
   "execution_count": null,
   "metadata": {
    "collapsed": true
   },
   "outputs": [],
   "source": [
    "with open(os.path.join(TWITTER_DATA_DIR, 'cascade_root_embeddings.pkl'), 'wb') as f:\n",
    "    pickle.dump(corpus_embeddings, f)"
   ]
  },
  {
   "cell_type": "markdown",
   "metadata": {},
   "source": [
    "### Future Trial Removing Hashtags\n",
    "Really should remove non text things"
   ]
  },
  {
   "cell_type": "code",
   "execution_count": null,
   "metadata": {
    "collapsed": true
   },
   "outputs": [],
   "source": []
  }
 ],
 "metadata": {
  "kernelspec": {
   "display_name": "gt",
   "language": "python",
   "name": "gt"
  },
  "language_info": {
   "codemirror_mode": {
    "name": "ipython",
    "version": 3
   },
   "file_extension": ".py",
   "mimetype": "text/x-python",
   "name": "python",
   "nbconvert_exporter": "python",
   "pygments_lexer": "ipython3",
   "version": "3.8.5"
  }
 },
 "nbformat": 4,
 "nbformat_minor": 2
}
