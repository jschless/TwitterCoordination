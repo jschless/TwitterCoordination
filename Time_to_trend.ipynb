{
 "cells": [
  {
   "cell_type": "markdown",
   "metadata": {},
   "source": [
    "Goal: Figure out time after first template tweet until something trended "
   ]
  },
  {
   "cell_type": "code",
   "execution_count": 2,
   "metadata": {
    "collapsed": true
   },
   "outputs": [],
   "source": [
    "from imports import *\n",
    "%load_ext autoreload\n",
    "%autoreload 2\n"
   ]
  },
  {
   "cell_type": "code",
   "execution_count": 50,
   "metadata": {
    "collapsed": true
   },
   "outputs": [],
   "source": [
    "campaigns = preprocessing.load_campaign()"
   ]
  },
  {
   "cell_type": "code",
   "execution_count": 99,
   "metadata": {
    "scrolled": true
   },
   "outputs": [
    {
     "name": "stdout",
     "output_type": "stream",
     "text": [
      "Hashtag jharkhandwithmodi\n",
      "first template at time 2019-02-17 06:18:10\n",
      "began trending: 2019-02-17 11:00:00\n",
      "Hashtag surgingsilk\n",
      "first template at time 2019-02-09 12:28:00\n",
      "began trending: 2019-02-09 13:00:00\n",
      "Hashtag merapmmeraabhimaan\n",
      "first template at time 2018-11-11 04:53:09\n",
      "began trending: 2018-11-11 06:00:00\n",
      "Hashtag kiamadeinap\n",
      "first template at time 2019-01-28 17:40:14\n",
      "began trending: NaT\n",
      "Hashtag dousupportnaxals\n",
      "first template at time 2018-09-04 09:24:48\n",
      "began trending: NaT\n",
      "Hashtag mizoramwithmodi\n",
      "first template at time 2018-11-23 05:24:36\n",
      "began trending: NaT\n",
      "Hashtag timesofrahul\n",
      "first template at time 2019-04-22 03:09:00\n",
      "began trending: NaT\n",
      "Hashtag threadsofexcellence\n",
      "first template at time 2019-01-06 11:57:00\n",
      "began trending: 2019-01-06 13:00:00\n",
      "Hashtag msmetextilesconclave\n",
      "first template at time 2019-02-13 05:58:00\n",
      "began trending: NaT\n",
      "Hashtag bjp4jind\n",
      "first template at time 2019-01-27 04:20:00\n",
      "began trending: NaT\n",
      "Hashtag म्हारा_वोट_भाजपा_को\n",
      "first template at time 2018-12-05 04:48:32\n",
      "began trending: 2018-12-05 08:00:00\n",
      "Hashtag parakramparv\n",
      "first template at time 2018-09-28 03:43:00\n",
      "began trending: 2018-09-28 06:00:00\n",
      "Hashtag technicaltextiles\n",
      "first template at time 2019-01-29 04:55:00\n",
      "began trending: NaT\n",
      "Hashtag himachalkacu\n",
      "first template at time 2019-02-21 06:07:31\n",
      "began trending: NaT\n",
      "Hashtag congaapbhaibhai\n",
      "first template at time 2019-02-22 12:22:59\n",
      "began trending: NaT\n",
      "Hashtag sizeindia\n",
      "first template at time 2019-02-06 13:53:17\n",
      "began trending: NaT\n",
      "Hashtag savekeralafromcommunists\n",
      "first template at time 2019-01-07 03:50:05\n",
      "began trending: 2019-01-07 06:00:00\n",
      "Hashtag copypastencp\n",
      "first template at time 2018-09-07 11:13:43\n",
      "began trending: NaT\n",
      "Hashtag bjp4betterandhra\n",
      "first template at time 2019-02-04 04:58:28\n",
      "began trending: NaT\n",
      "Hashtag jaihindkisena\n",
      "first template at time 2018-12-05 03:43:03\n",
      "began trending: 2018-12-05 05:00:00\n",
      "Hashtag congressinsultsairforce\n",
      "first template at time 2018-12-20 13:40:00\n",
      "began trending: 2018-12-20 14:00:00\n",
      "Hashtag armedforcesweek2018\n",
      "first template at time 2018-12-01 05:14:52\n",
      "began trending: 2018-12-01 06:00:00\n",
      "Hashtag newindia4narishakti\n",
      "first template at time 2019-03-08 01:36:36\n",
      "began trending: 2019-03-08 03:00:00\n",
      "Hashtag congressdefencescams\n",
      "first template at time 2018-10-17 04:03:00\n",
      "began trending: 2018-10-17 05:00:00\n",
      "Hashtag pminprayagraj\n",
      "first template at time 2018-12-16 07:05:00\n",
      "began trending: 2018-12-16 11:00:00\n",
      "Hashtag amethikididismritiirani\n",
      "first template at time 2019-01-23 08:29:00\n",
      "began trending: NaT\n",
      "Hashtag namowithtraders\n",
      "first template at time 2019-04-19 10:33:18\n",
      "began trending: 2019-04-19 13:00:00\n",
      "Hashtag corruptcongressfearsdemo\n",
      "first template at time 2018-11-08 03:57:00\n",
      "began trending: NaT\n",
      "Hashtag artisanspeak\n",
      "first template at time 2019-01-28 12:51:00\n",
      "began trending: 2019-01-28 14:00:00\n",
      "Hashtag urban_नक्सली_केजरीवाल\n",
      "first template at time 2019-03-13 15:02:02\n",
      "began trending: 2019-03-13 17:00:00\n",
      "Hashtag zamanatke1000din\n",
      "first template at time 2018-09-14 09:10:06\n",
      "began trending: 2018-09-14 10:00:00\n",
      "Hashtag yuvakemannkibaat\n",
      "first template at time 2019-02-22 06:38:42\n",
      "began trending: NaT\n",
      "Hashtag iafbacksrafale\n",
      "first template at time 2018-09-05 11:46:02\n",
      "began trending: NaT\n",
      "Hashtag भारत_माता_की_जय\n",
      "first template at time 2018-11-20 13:27:38\n",
      "began trending: NaT\n",
      "Hashtag namothon\n",
      "first template at time 2019-01-03 18:10:00\n",
      "began trending: NaT\n",
      "Hashtag लक्ष्य_हमारा_मोदी_दोबारा\n",
      "first template at time 2019-01-22 03:23:59\n",
      "began trending: 2019-01-22 04:00:00\n",
      "Hashtag आदर्शघोटाला_संघर्ष_यात्रा\n",
      "first template at time 2018-09-06 07:28:00\n",
      "began trending: 2018-09-06 08:00:00\n",
      "Hashtag pminraebareli\n",
      "first template at time 2018-12-16 02:24:31\n",
      "began trending: 2018-12-16 04:00:00\n",
      "Hashtag bjpforsamridhkisan\n",
      "first template at time 2019-02-23 08:37:00\n",
      "began trending: NaT\n",
      "Hashtag facebookboomed\n",
      "first template at time 2019-01-29 12:26:00\n",
      "began trending: NaT\n",
      "Hashtag badalrahihaikashi\n",
      "first template at time 2019-02-19 03:39:01\n",
      "began trending: 2019-02-19 06:00:00\n",
      "Hashtag lawlessodisha\n",
      "first template at time 2018-11-13 18:13:24\n",
      "began trending: 2018-11-14 06:00:00\n",
      "Hashtag rafailgandhi\n",
      "first template at time 2018-12-15 05:00:08\n",
      "began trending: 2018-12-15 06:00:00\n",
      "Hashtag rahulkidefencedeals\n",
      "first template at time 2019-03-13 03:58:19\n",
      "began trending: NaT\n",
      "Hashtag rahulgandhijavabdo\n",
      "first template at time 2018-10-14 09:52:09\n",
      "began trending: 2018-10-14 11:00:00\n",
      "Hashtag ragafailonrafale\n",
      "first template at time 2018-11-15 03:53:00\n",
      "began trending: 2018-11-15 05:00:00\n",
      "Hashtag successofmakeinindia\n",
      "first template at time 2019-02-17 11:35:00\n",
      "began trending: 2019-02-17 13:00:00\n",
      "Hashtag congresseurofighterscandal\n",
      "first template at time 2019-01-08 03:15:00\n",
      "began trending: 2019-01-08 04:00:00\n",
      "Hashtag modimeinhaidum\n",
      "first template at time 2019-03-19 02:17:46\n",
      "began trending: 2019-03-19 05:00:00\n",
      "Hashtag takingforwardhinducause\n",
      "first template at time 2019-01-10 05:17:34\n",
      "began trending: NaT\n",
      "Hashtag myfirstvoteformodi\n",
      "first template at time 2019-03-15 09:37:20\n",
      "began trending: NaT\n",
      "Hashtag shahforgandhinagar\n",
      "first template at time 2019-04-14 13:11:39\n",
      "began trending: NaT\n",
      "Hashtag maikamalkhilaneayahu\n",
      "first template at time 2019-03-30 03:41:33\n",
      "began trending: 2019-03-30 04:00:00\n",
      "Hashtag उत्तरप्रदेश_विजय_संकल्प\n",
      "first template at time 2019-03-24 09:41:00\n",
      "began trending: NaT\n",
      "Hashtag removetraitorsfromdu\n",
      "first template at time 2019-02-24 09:56:28\n",
      "began trending: NaT\n",
      "Hashtag devendra4maharashtra\n",
      "first template at time 2018-10-31 11:21:00\n",
      "began trending: NaT\n",
      "Hashtag andhrawithmodi\n",
      "first template at time 2019-01-06 05:12:00\n",
      "began trending: NaT\n",
      "Hashtag jaihobc\n",
      "first template at time 2019-01-26 14:22:35\n",
      "began trending: NaT\n",
      "Hashtag modifiedtextiles\n",
      "first template at time 2019-01-22 09:26:00\n",
      "began trending: NaT\n",
      "Hashtag meraparivarbhajapaparivar\n",
      "first template at time 2019-02-11 07:39:27\n",
      "began trending: 2019-02-12 04:00:00\n",
      "Hashtag modifiedjobs\n",
      "first template at time 2019-03-09 09:37:46\n",
      "began trending: 2019-03-09 11:00:00\n",
      "Hashtag gappupappu\n",
      "first template at time 2018-10-11 10:43:11\n",
      "began trending: NaT\n"
     ]
    }
   ],
   "source": [
    "res_dict = {}\n",
    "trending_thresh = 10\n",
    "for ht, tweets in campaigns.items():\n",
    "    if ht not in preprocessing.bandwagon_hashtags and ht not in preprocessing.never_trended:\n",
    "        for t in sorted(tweets.values(), key=lambda x: x['date']):\n",
    "            if t['retweet_from'] == '' and t['template'] != '':\n",
    "                print('Hashtag', ht)\n",
    "                print('first template at time', t['date'])\n",
    "                f_name = os.path.join(TRENDS_DIR, ht+'_country_trending.pkl')\n",
    "                trending_data = pd.read_pickle(f_name)\n",
    "                trending_data = trending_data[trending_data.within_group_ranking <= trending_thresh]\n",
    "                print('began trending:', trending_data.datetime.min())\n",
    "                res_dict[ht] = (t['date'], trending_data.datetime.min())\n",
    "                break"
   ]
  },
  {
   "cell_type": "code",
   "execution_count": 100,
   "metadata": {},
   "outputs": [],
   "source": [
    "time_to_trend = []\n",
    "for ht, tup in res_dict.items():\n",
    "    first_template, first_trending = tup\n",
    "    try:\n",
    "        minutes = int((first_trending - first_template).seconds/60)\n",
    "        time_to_trend.append(minutes)\n",
    "    except:\n",
    "        continue\n"
   ]
  },
  {
   "cell_type": "code",
   "execution_count": 95,
   "metadata": {},
   "outputs": [
    {
     "name": "stdout",
     "output_type": "stream",
     "text": [
      "mean time to trend to at least level 50 is 166.3709677419355\n",
      "median time to trend to at least level 50 is 67.0\n"
     ]
    }
   ],
   "source": [
    "print('mean time to trend to at least level', trending_thresh, 'is', np.mean(time_to_trend))\n",
    "print('median time to trend to at least level', trending_thresh, 'is', np.median(time_to_trend))"
   ]
  },
  {
   "cell_type": "code",
   "execution_count": 98,
   "metadata": {},
   "outputs": [
    {
     "name": "stdout",
     "output_type": "stream",
     "text": [
      "mean time to trend to at least level 25 is 136.12244897959184\n",
      "median time to trend to at least level 25 is 76.0\n"
     ]
    }
   ],
   "source": [
    "print('mean time to trend to at least level', trending_thresh, 'is', np.mean(time_to_trend))\n",
    "print('median time to trend to at least level', trending_thresh, 'is', np.median(time_to_trend))"
   ]
  },
  {
   "cell_type": "code",
   "execution_count": 101,
   "metadata": {},
   "outputs": [
    {
     "name": "stdout",
     "output_type": "stream",
     "text": [
      "mean time to trend to at least level 10 is 148.70967741935485\n",
      "median time to trend to at least level 10 is 76.0\n"
     ]
    }
   ],
   "source": [
    "print('mean time to trend to at least level', trending_thresh, 'is', np.mean(time_to_trend))\n",
    "print('median time to trend to at least level', trending_thresh, 'is', np.median(time_to_trend))"
   ]
  },
  {
   "cell_type": "code",
   "execution_count": 78,
   "metadata": {
    "collapsed": true
   },
   "outputs": [],
   "source": [
    "bins = [0,10,20,30,40,50,60,90,120,240,360]"
   ]
  },
  {
   "cell_type": "code",
   "execution_count": 80,
   "metadata": {},
   "outputs": [
    {
     "data": {
      "text/plain": [
       "Text(0.5, 1.0, 'Minutes Until Trending at level 50')"
      ]
     },
     "execution_count": 80,
     "metadata": {},
     "output_type": "execute_result"
    },
    {
     "data": {
      "image/png": "[encoded data removed]",
      "text/plain": [
       "<Figure size 432x288 with 1 Axes>"
      ]
     },
     "metadata": {
      "needs_background": "light"
     },
     "output_type": "display_data"
    }
   ],
   "source": [
    "plt.hist(time_to_trend, bins=bins)\n",
    "plt.xlabel('Minutes between First Template Tweet and Trending')\n",
    "plt.title('Minutes Until Trending at level ' + str(trending_thresh))"
   ]
  },
  {
   "cell_type": "code",
   "execution_count": 88,
   "metadata": {},
   "outputs": [
    {
     "name": "stdout",
     "output_type": "stream",
     "text": [
      "mean time to trend to at least level 10 is 148.70967741935485\n"
     ]
    }
   ],
   "source": [
    "print('mean time to trend to at least level', trending_thresh, 'is', np.mean(time_to_trend))"
   ]
  },
  {
   "cell_type": "code",
   "execution_count": 83,
   "metadata": {},
   "outputs": [
    {
     "data": {
      "text/plain": [
       "Text(0.5, 1.0, 'Minutes Until Trending at level 25')"
      ]
     },
     "execution_count": 83,
     "metadata": {},
     "output_type": "execute_result"
    },
    {
     "data": {
      "image/png": "[encoded data removed]",
      "text/plain": [
       "<Figure size 432x288 with 1 Axes>"
      ]
     },
     "metadata": {
      "needs_background": "light"
     },
     "output_type": "display_data"
    }
   ],
   "source": [
    "plt.hist(time_to_trend, bins=bins)\n",
    "plt.xlabel('Minutes between First Template Tweet and Trending')\n",
    "plt.title('Minutes Until Trending at level ' + str(trending_thresh))"
   ]
  },
  {
   "cell_type": "code",
   "execution_count": 86,
   "metadata": {},
   "outputs": [
    {
     "data": {
      "text/plain": [
       "Text(0.5, 1.0, 'Minutes Until Trending at level 10')"
      ]
     },
     "execution_count": 86,
     "metadata": {},
     "output_type": "execute_result"
    },
    {
     "data": {
      "image/png": "[encoded data removed]",
      "text/plain": [
       "<Figure size 432x288 with 1 Axes>"
      ]
     },
     "metadata": {
      "needs_background": "light"
     },
     "output_type": "display_data"
    }
   ],
   "source": [
    "plt.hist(time_to_trend, bins=bins)\n",
    "plt.xlabel('Minutes between First Template Tweet and Trending')\n",
    "plt.title('Minutes Until Trending at level ' + str(trending_thresh))"
   ]
  },
  {
   "cell_type": "code",
   "execution_count": null,
   "metadata": {
    "collapsed": true
   },
   "outputs": [],
   "source": []
  }
 ],
 "metadata": {
  "kernelspec": {
   "display_name": "gt",
   "language": "python",
   "name": "gt"
  },
  "language_info": {
   "codemirror_mode": {
    "name": "ipython",
    "version": 3
   },
   "file_extension": ".py",
   "mimetype": "text/x-python",
   "name": "python",
   "nbconvert_exporter": "python",
   "pygments_lexer": "ipython3",
   "version": "3.8.5"
  }
 },
 "nbformat": 4,
 "nbformat_minor": 2
}
