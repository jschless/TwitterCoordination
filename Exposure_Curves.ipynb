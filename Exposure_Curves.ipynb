{
 "cells": [
  {
   "cell_type": "code",
   "execution_count": 1,
   "metadata": {
    "collapsed": true
   },
   "outputs": [],
   "source": [
    "import preprocessing, os, gzip\n",
    "from config import FOLLOWER_DATA_DIR\n",
    "import graph_tool.all as gt\n",
    "from tqdm import tqdm\n",
    "from statsmodels.distributions.empirical_distribution import ECDF\n",
    "import matplotlib.pyplot as plt\n",
    "from datetime import datetime\n",
    "import matplotlib.dates as mdates"
   ]
  },
  {
   "cell_type": "code",
   "execution_count": 2,
   "metadata": {
    "collapsed": true
   },
   "outputs": [],
   "source": [
    "campaigns = preprocessing.load_campaign()"
   ]
  },
  {
   "cell_type": "code",
   "execution_count": 3,
   "metadata": {
    "collapsed": true
   },
   "outputs": [],
   "source": [
    "hashtag = 'jharkhandwithmodi'\n",
    "tweets = campaigns[hashtag]"
   ]
  },
  {
   "cell_type": "code",
   "execution_count": 4,
   "metadata": {},
   "outputs": [
    {
     "name": "stderr",
     "output_type": "stream",
     "text": [
      "100%|██████████| 13908/13908 [07:40<00:00, 30.19it/s] \n"
     ]
    }
   ],
   "source": [
    "followers_dict = {}\n",
    "for tweet in tqdm(tweets.values()):\n",
    "    user = tweet['username']\n",
    "    file_name = os.path.join(FOLLOWER_DATA_DIR, user + '.gz')\n",
    "    if os.path.isfile(file_name):\n",
    "        f = gzip.open(file_name, 'rb')\n",
    "        followers = [x.split('\\t')[1] for x in f.read().decode().strip().split('\\n')]\n",
    "        followers_dict[user] = set(followers)\n",
    "    else:\n",
    "        followers_dict[user] = None"
   ]
  },
  {
   "cell_type": "code",
   "execution_count": 7,
   "metadata": {},
   "outputs": [
    {
     "data": {
      "text/plain": [
       "[{'username': 'bjp4latehar',\n",
       "  'id': '1172033856607682560',\n",
       "  'retweet_from': '',\n",
       "  'template': '',\n",
       "  'retweet_id': '',\n",
       "  'text': 'आधारभूत संरचना हो या शिक्षा या फिर स्वच्छता या जल शक्ति अभियान, झारखण्ड के जिले लगातार सबसे ऊंचे पायदान पर अपनी उपस्थिति दर्ज करवा रहे हैं। #jharkhandwithmodi',\n",
       "  'date': datetime.datetime(2019, 9, 12, 6, 27, 1),\n",
       "  'retweets': 0,\n",
       "  'favorites': 0},\n",
       " {'username': 'vjay21788',\n",
       "  'id': '1172108207499558912',\n",
       "  'retweet_from': 'ommathur_bjp',\n",
       "  'template': '',\n",
       "  'retweet_id': '1172063209785741312',\n",
       "  'text': 'rt @ommathur_bjp: #bharatmatakijai भारत माता की जय।सबको जाेहार।जनमानस का झारखंडी लहजे में अभिवादन करते हुए प्रधानमंत्री नरेंद्र मोदी ने रांची के प्रभात तारा मैदान में अपना संबोधन दिया;झारखंड को मिला नया विधानसभा भवन।पीएम मोदी ने किसानों-दुकानदारों के लिए शुरू की पेंशन योजनाएं #jharkhandwithmodi 🙏 https://t.co/6j3mrzy81m',\n",
       "  'date': datetime.datetime(2019, 9, 12, 11, 22, 28),\n",
       "  'retweets': 140,\n",
       "  'favorites': 0},\n",
       " {'username': 'vagrawa3',\n",
       "  'id': '1097069751128358914',\n",
       "  'retweet_from': '',\n",
       "  'template': 'प्रधानमंत्री @narendramodi  ने स्वच्छ भारत के सपने के तहत की हमारी फिक्र और उनके क्रांतिकारी अभियान से जुड़ कर देश के 5,50,485  और झारखण्ड के 29,564 गांव हो चुके हैं खुले में शौच से मुक्त (odf) #jharkhandwithmodi\\n',\n",
       "  'retweet_id': '',\n",
       "  'text': 'प्रधानमंत्री @narendramodi \\xa0ने स्वच्छ भारत के सपने के तहत की हमारी फिक्र और उनके क्रांतिकारी अभियान से जुड़ कर देश के 5,50,485 \\xa0और झारखण्ड के 29,564 गांव हो चुके हैं खुले में शौच से मुक्त (odf) #jharkhandwithmodi @sharmakhemchand',\n",
       "  'date': datetime.datetime(2019, 2, 17, 9, 46, 25),\n",
       "  'retweets': 0,\n",
       "  'favorites': 0},\n",
       " {'username': 'ashishmerkhed',\n",
       "  'id': '1172084320225263619',\n",
       "  'retweet_from': 'bjp4india',\n",
       "  'template': '',\n",
       "  'retweet_id': '1172082904316334080',\n",
       "  'text': 'rt @bjp4india: चुनाव के समय मैंने आपसे कामदार और दमदार सरकार देने का वादा किया था। बीते 100 दिन में देश ने इसका ट्रेलर देख लिया है, अभी फिल्म बाकी है। हमारा संकल्प है- आतंकवाद के खिलाफ निर्णायक लड़ाई का। पहले 100 दिन में ही आतंक निरोधी कानून को और मजबूत कर दिया गया है: पीएम #jharkhandwithmodi https://t.co/jwzl5bcteq',\n",
       "  'date': datetime.datetime(2019, 9, 12, 9, 47, 32),\n",
       "  'retweets': 456,\n",
       "  'favorites': 0},\n",
       " {'username': 'manishkbjp',\n",
       "  'id': '1097111295562678276',\n",
       "  'retweet_from': 'bjp4jharkhand',\n",
       "  'template': '2014 तक हायर सेकेंडरी स्कूलों की संख्या 653 थी। 4 साल बाद यानि 2018 में ये बढ़कर 1035 हो गयी है। #jharkhandwithmodi\\n',\n",
       "  'retweet_id': '1097067864467550208',\n",
       "  'text': 'rt @bjp4jharkhand: 2014 तक हायर सेकेंडरी स्कूलों की संख्या 653 थी। 4 साल बाद यानि 2018 में ये बढ़कर 1035 हो गयी है। #jharkhandwithmodi',\n",
       "  'date': datetime.datetime(2019, 2, 17, 12, 31, 30),\n",
       "  'retweets': 6,\n",
       "  'favorites': 14},\n",
       " {'username': 'bjp4chaibasa',\n",
       "  'id': '1172085587945259013',\n",
       "  'retweet_from': 'dasraghubar',\n",
       "  'template': '',\n",
       "  'retweet_id': '1172069273109295104',\n",
       "  'text': 'rt @dasraghubar: हमने 10 करोड़ से ज्यादा शौचालय बनाकर, गरीब बहनों-बेटियों के जीवन का बहुत बड़ा कष्ट दूर किया।: pm @narendramodi #jharkhandwithmodi https://t.co/fmjytjkh8w',\n",
       "  'date': datetime.datetime(2019, 9, 12, 9, 52, 35),\n",
       "  'retweets': 62,\n",
       "  'favorites': 0},\n",
       " {'username': 'bjp4simdega',\n",
       "  'id': '1097067899938734086',\n",
       "  'retweet_from': '',\n",
       "  'template': 'झारखण्ड को प्रधानमंत्री जी की एक और सौगात, 481.28 करोड़ की लागत से पलामू में बनेगा 500 बेड का अत्याधुनिक अस्पताल। #jharkhandwithmodi\\n',\n",
       "  'retweet_id': '',\n",
       "  'text': 'झारखण्ड को प्रधानमंत्री जी की एक और सौगात , 481.28 करोड़ की लागत से पलामू में बनेगा 500 बेड का अत्याधुनिक अस्पताल । #jharkhandwithmodi 65',\n",
       "  'date': datetime.datetime(2019, 2, 17, 9, 39),\n",
       "  'retweets': 0,\n",
       "  'favorites': 0},\n",
       " {'username': 'akshaygaikwadb',\n",
       "  'id': '1172568211562348545',\n",
       "  'retweet_from': 'bjp4india',\n",
       "  'template': '',\n",
       "  'retweet_id': '1172092327201869831',\n",
       "  'text': 'rt @bjp4india: मेरी प्रकृति प्रेमी और पर्यावरण प्रेमी झारखंड के लोगों से अपील है कि इस अभियान में जुटें और देश को सिंगल यूज प्लास्टिक से मुक्ति दिलाने में अगुवाई करें। मुझे विश्वास है कि अगले 5 वर्ष के लिए झारखंड फिर विकास का डबल इंजन लगाएगा: पीएम #jharkhandwithmodi https://t.co/qjfpzlq4v3',\n",
       "  'date': datetime.datetime(2019, 9, 13, 17, 50, 21),\n",
       "  'retweets': 280,\n",
       "  'favorites': 0},\n",
       " {'username': 'bjp4garhwa',\n",
       "  'id': '1172014444227919880',\n",
       "  'retweet_from': 'dasraghubar',\n",
       "  'template': '',\n",
       "  'retweet_id': '1171978352405532677',\n",
       "  'text': 'rt @dasraghubar: झारखण्ड की हर जरुरत का ख्याल रखने के लिए राज्य की सवा तीन करोड़ जनता की ओर से प्रधानमंत्री श्री @narendramodi का हार्दिक आभार। 19 साल बाद राज्य को अपना विधानसभा भवन मिला है। #jharkhandwithmodi https://t.co/cjossxay0i',\n",
       "  'date': datetime.datetime(2019, 9, 12, 5, 9, 53),\n",
       "  'retweets': 136,\n",
       "  'favorites': 0},\n",
       " {'username': 'rmojha53',\n",
       "  'id': '1172040002542305289',\n",
       "  'retweet_from': 'bjp4jharkhand',\n",
       "  'template': '',\n",
       "  'retweet_id': '1172034013671776256',\n",
       "  'text': 'rt @bjp4jharkhand: प्रधानमंत्री श्री @narendramodi जी के द्वारा झारखण्ड के नये विधानसभा का उद्घाटन किया गया. #jharkhandwithmodi https://t.co/gjjxhlewm3',\n",
       "  'date': datetime.datetime(2019, 9, 12, 6, 51, 26),\n",
       "  'retweets': 46,\n",
       "  'favorites': 0}]"
      ]
     },
     "execution_count": 7,
     "metadata": {},
     "output_type": "execute_result"
    }
   ],
   "source": [
    "list(tweets.values())[:10]"
   ]
  },
  {
   "cell_type": "code",
   "execution_count": 20,
   "metadata": {},
   "outputs": [
    {
     "name": "stderr",
     "output_type": "stream",
     "text": [
      "100%|██████████| 13908/13908 [00:29<00:00, 475.62it/s] \n"
     ]
    }
   ],
   "source": [
    "rt_results, new_tweet_results = {}, {} #username -> (# template, # non-template)\n",
    "sorted_tweets = sorted(tweets.values(), key=lambda x: x['date'])[::-1]\n",
    "for i in tqdm(range(len(sorted_tweets))):\n",
    "    child = sorted_tweets[i]\n",
    "    n_temp, n_norm = 0, 0\n",
    "    for j in range(i, len(sorted_tweets)):\n",
    "        #print(sorted_tweets[j]['id'])\n",
    "        followers = followers_dict[child['username']]\n",
    "        if followers is None:\n",
    "            followers = set()\n",
    "        if sorted_tweets[j]['username'] in followers:\n",
    "            if sorted_tweets[j]['template'] != '':\n",
    "                n_temp += 1\n",
    "            else:\n",
    "                n_norm += 1\n",
    "    if child['retweet_id'] != '': \n",
    "        rt_results[child['username']] = (n_temp, n_norm)\n",
    "    else:\n",
    "        new_tweet_results[child['username']] = (n_temp, n_norm)"
   ]
  },
  {
   "cell_type": "code",
   "execution_count": 21,
   "metadata": {
    "collapsed": true
   },
   "outputs": [],
   "source": [
    "rt_temps, rt_norms = zip(*list(rt_results.values()))"
   ]
  },
  {
   "cell_type": "code",
   "execution_count": 22,
   "metadata": {
    "collapsed": true
   },
   "outputs": [],
   "source": [
    "new_tweet_temps, new_tweet_norms = zip(*list(new_tweet_results.values()))"
   ]
  },
  {
   "cell_type": "code",
   "execution_count": 23,
   "metadata": {},
   "outputs": [
    {
     "data": {
      "text/plain": [
       "<matplotlib.legend.Legend at 0x2aaafa0287f0>"
      ]
     },
     "execution_count": 23,
     "metadata": {},
     "output_type": "execute_result"
    },
    {
     "data": {
      "image/png": "[encoded data removed]",
      "text/plain": [
       "<Figure size 432x288 with 1 Axes>"
      ]
     },
     "metadata": {
      "needs_background": "light"
     },
     "output_type": "display_data"
    }
   ],
   "source": [
    "lists = [rt_temps, rt_norms, new_tweet_temps, new_tweet_norms]\n",
    "labels = [\"RT Template\", \"RT Normal\", \"New Tweet Template\", \"New Tweet Normal\"]\n",
    "styles = ['r--', 'b--', 'r', 'b']\n",
    "for x, lab, sty in zip(lists, labels, styles):\n",
    "    ecdf = ECDF(x)\n",
    "    plt.plot(ecdf.x, ecdf.y, sty, label=lab)\n",
    "plt.xscale('log')\n",
    "plt.legend()"
   ]
  },
  {
   "cell_type": "code",
   "execution_count": 24,
   "metadata": {
    "collapsed": true
   },
   "outputs": [],
   "source": [
    "rt_all = [x+y for x,y in zip(rt_temps, rt_norms)]\n",
    "nt_all = [x+y for x,y in zip(new_tweet_temps, new_tweet_norms)]"
   ]
  },
  {
   "cell_type": "code",
   "execution_count": 25,
   "metadata": {},
   "outputs": [
    {
     "data": {
      "text/plain": [
       "<matplotlib.legend.Legend at 0x2aaafa170a60>"
      ]
     },
     "execution_count": 25,
     "metadata": {},
     "output_type": "execute_result"
    },
    {
     "data": {
      "image/png": "[encoded data removed]",
      "text/plain": [
       "<Figure size 432x288 with 1 Axes>"
      ]
     },
     "metadata": {
      "needs_background": "light"
     },
     "output_type": "display_data"
    }
   ],
   "source": [
    "lists = [rt_all, nt_all]\n",
    "labels = [\"Retweets\", \"New Tweets\"]\n",
    "styles = ['r', 'b']\n",
    "for x, lab, sty in zip(lists, labels, styles):\n",
    "    ecdf = ECDF(x)\n",
    "    plt.plot(ecdf.x, ecdf.y, sty, label=lab)\n",
    "plt.xscale('log')\n",
    "plt.legend()"
   ]
  },
  {
   "cell_type": "markdown",
   "metadata": {},
   "source": [
    "# Follow up\n",
    "So, new tweets require more exposure. Exposure to non template tweets increases participation at a faster rate (solid blue crosses solid red)\n",
    "\n",
    "RTs are lower effort, should be higher. And yet, "
   ]
  }
 ],
 "metadata": {
  "kernelspec": {
   "display_name": "gt",
   "language": "python",
   "name": "gt"
  },
  "language_info": {
   "codemirror_mode": {
    "name": "ipython",
    "version": 3
   },
   "file_extension": ".py",
   "mimetype": "text/x-python",
   "name": "python",
   "nbconvert_exporter": "python",
   "pygments_lexer": "ipython3",
   "version": "3.8.5"
  }
 },
 "nbformat": 4,
 "nbformat_minor": 2
}
