{
 "cells": [
  {
   "cell_type": "markdown",
   "metadata": {},
   "source": [
    "# Goal\n",
    "Hypothesis: template tweets are quite insular. Find the nearest neighbor in the embedded space for all tweets. How many of template tweets neighbors are other template tweets? Non-template tweets? etc. \n",
    "\n",
    "### Steps \n",
    "1. For a hashtag, get unique tweets. Only take 1 of the template tweets. Only take root nodes. \n",
    "2. Generate sentence embeddings\n",
    "3. For each tweet, find the k nearest neighbors in the space. Compare how they breakdown, normalizing by number of template/non-template in the given hashtag."
   ]
  },
  {
   "cell_type": "code",
   "execution_count": 1,
   "metadata": {},
   "outputs": [],
   "source": [
    "import preprocessing"
   ]
  },
  {
   "cell_type": "code",
   "execution_count": 2,
   "metadata": {
    "collapsed": true
   },
   "outputs": [],
   "source": [
    "campaigns = preprocessing.load_campaign()"
   ]
  },
  {
   "cell_type": "code",
   "execution_count": 21,
   "metadata": {},
   "outputs": [],
   "source": [
    "ht = 'jharkhandwithmodi'\n",
    "campaign = campaigns[ht]"
   ]
  },
  {
   "cell_type": "code",
   "execution_count": 8,
   "metadata": {
    "scrolled": true
   },
   "outputs": [
    {
     "data": {
      "text/plain": [
       "[{'username': 'gajendar_bjp',\n",
       "  'id': '1095229661829873669',\n",
       "  'retweet_from': 'kishanreddybjp',\n",
       "  'template': '',\n",
       "  'retweet_id': '1095194764918419456',\n",
       "  'text': \"rt @kishanreddybjp: hoisted @bjp4india flag at my home along with friends, well-wishers and party colleagues today as part of #meraparivarbhajapaparivar campaign. 5 crore bjp workers and well wishers across the country will put up bjp's flag at their homes as part of the campaign. #bjp4telangana https://t.co/ggft1wp84d\",\n",
       "  'date': datetime.datetime(2019, 2, 12, 7, 54, 34),\n",
       "  'retweets': 345,\n",
       "  'favorites': 0},\n",
       " {'username': 'sureshklatiyal',\n",
       "  'id': '1095673888451702785',\n",
       "  'retweet_from': 'malikrosyanand',\n",
       "  'template': '',\n",
       "  'retweet_id': '1095633312519995397',\n",
       "  'text': \"rt @malikrosyanand: #meraparivarbhajapaparivar के अंतर्गत आज मैंने अपने घर पर भाजपा का झंडा लगाकर 'फिर एक बार- मोदी सरकार' का संकल्प लिया। क्या आपने यह कार्य किया ?? #malikrosyanand #victory2019 #bjpharyana https://t.co/1stqxo7hri\",\n",
       "  'date': datetime.datetime(2019, 2, 13, 13, 19, 46),\n",
       "  'retweets': 5,\n",
       "  'favorites': 0},\n",
       " {'username': 'dhrubag71302949',\n",
       "  'id': '1099999625648336896',\n",
       "  'retweet_from': 'arunsinghbjp',\n",
       "  'template': '',\n",
       "  'retweet_id': '1099580826331672576',\n",
       "  'text': 'rt @arunsinghbjp: \"मेरा परिवार भाजपा परिवार\"के अंतर्गत आज मैंने अपने घर पर भाजपा का ध्वज और स्टिकर लगाया तथा संकल्प लिया 2019 में प्रचंड बहुमत के साथ मोदी जी के नेतृत्व में पुन:भाजपा सरकार का।भारत विकास और उन्नति पथ पर बढ़ता रहे इसके लिये मोदी सरकार ही फिर जरूरी है। #meraparivarbhajapaparivar https://t.co/dknunwqtw8',\n",
       "  'date': datetime.datetime(2019, 2, 25, 11, 48, 42),\n",
       "  'retweets': 189,\n",
       "  'favorites': 0},\n",
       " {'username': 'chethusk895gma1',\n",
       "  'id': '1095559285835104256',\n",
       "  'retweet_from': 'socialmediatbn',\n",
       "  'template': '',\n",
       "  'retweet_id': '1095261047806517248',\n",
       "  'text': 'rt @socialmediatbn: #rafaledeal #modi4newindia #meraparivarbhajapaparivar https://t.co/zbrjollyi4',\n",
       "  'date': datetime.datetime(2019, 2, 13, 5, 44, 22),\n",
       "  'retweets': 2,\n",
       "  'favorites': 0},\n",
       " {'username': 'isupportnamo007',\n",
       "  'id': '1094976951461113857',\n",
       "  'retweet_from': 'manoranjana',\n",
       "  'template': '',\n",
       "  'retweet_id': '1094970338125873152',\n",
       "  'text': 'rt @manoranjana: भारतीय सेना का हर जवान पूरे साल देश की रक्षा के लिए 9 महीने सरहदों पे रहता है। क्या हम आने वाले 9 सप्ताह समर्पित कर सकते हैं मोदी जी के लिए, अपने देश और आने वाली पीढ़ियों के लिए? 🇮🇳🇮🇳🇮🇳 #comeagainmodiji #teammodi #meraparivarbhajapaparivar #nayiumeednayadesh @bjp4india https://t.co/gfix4dzklz',\n",
       "  'date': datetime.datetime(2019, 2, 11, 15, 10, 23),\n",
       "  'retweets': 133,\n",
       "  'favorites': 0},\n",
       " {'username': 'sonali08408595',\n",
       "  'id': '1106779512878956545',\n",
       "  'retweet_from': '',\n",
       "  'template': '',\n",
       "  'retweet_id': '',\n",
       "  'text': '#meraparivarbhajapaparivar https://t.co/sphyhavdvc',\n",
       "  'date': datetime.datetime(2019, 3, 16, 4, 49, 33),\n",
       "  'retweets': 1,\n",
       "  'favorites': 0},\n",
       " {'username': 'sandhyac13',\n",
       "  'id': '1109314927825543168',\n",
       "  'retweet_from': 'arya58003918',\n",
       "  'template': '',\n",
       "  'retweet_id': '1102804270523412480',\n",
       "  'text': 'rt @arya58003918: #meraparivarbhajapaparivar',\n",
       "  'date': datetime.datetime(2019, 3, 23, 4, 44, 23),\n",
       "  'retweets': 17,\n",
       "  'favorites': 0},\n",
       " {'username': 'lavishgujjar99',\n",
       "  'id': '1096406723424743424',\n",
       "  'retweet_from': 'siddharthhind',\n",
       "  'template': '',\n",
       "  'retweet_id': 'missing_1096370199589076997',\n",
       "  'text': 'rt @siddharthhind: east and west.... #modi is the best.. #meraparivarbhajapaparivar https://t.co/oyz6hjogkw',\n",
       "  'date': datetime.datetime(2019, 2, 15, 13, 51, 47),\n",
       "  'retweets': 12,\n",
       "  'favorites': 0},\n",
       " {'username': 'mahavirsinhbar4',\n",
       "  'id': '1103672871887429633',\n",
       "  'retweet_from': '',\n",
       "  'template': '',\n",
       "  'retweet_id': '',\n",
       "  'text': '#meraparivarbhajapaparivar',\n",
       "  'date': datetime.datetime(2019, 3, 7, 15, 4, 52),\n",
       "  'retweets': 0,\n",
       "  'favorites': 0},\n",
       " {'username': 'shankud05492751',\n",
       "  'id': '1097871292223479808',\n",
       "  'retweet_from': '',\n",
       "  'template': '',\n",
       "  'retweet_id': '',\n",
       "  'text': '#meraparivarbhajapaparivar https://t.co/orkuzikont',\n",
       "  'date': datetime.datetime(2019, 2, 19, 14, 51, 28),\n",
       "  'retweets': 0,\n",
       "  'favorites': 0}]"
      ]
     },
     "execution_count": 8,
     "metadata": {},
     "output_type": "execute_result"
    }
   ],
   "source": [
    "list(campaign.values())[:10]"
   ]
  },
  {
   "cell_type": "markdown",
   "metadata": {},
   "source": [
    "### Processing Unique Tweets"
   ]
  },
  {
   "cell_type": "code",
   "execution_count": 22,
   "metadata": {},
   "outputs": [],
   "source": [
    "unique_tweets = []\n",
    "templates = []\n",
    "n_templates = 0\n",
    "for tweet in campaign.values():\n",
    "    if tweet['template'] != '':\n",
    "        n_templates += 1\n",
    "        if  tweet['template'] not in templates:\n",
    "            unique_tweets.append(tweet)\n",
    "            templates.append(tweet['template'])\n",
    "    if tweet['retweet_id'] == '': # root tweet\n",
    "        unique_tweets.append(tweet)\n",
    "        \n",
    "# remove duplicate templates"
   ]
  },
  {
   "cell_type": "code",
   "execution_count": 23,
   "metadata": {},
   "outputs": [
    {
     "name": "stdout",
     "output_type": "stream",
     "text": [
      "number of unique tweets 7429\n",
      "number of unique templates 219\n",
      "number of total templates 2865\n"
     ]
    }
   ],
   "source": [
    "print('number of unique tweets', len(unique_tweets))\n",
    "print('number of unique templates', len(templates))\n",
    "print('number of total templates', n_templates)"
   ]
  },
  {
   "cell_type": "markdown",
   "metadata": {},
   "source": [
    "## Embeddings"
   ]
  },
  {
   "cell_type": "code",
   "execution_count": 24,
   "metadata": {
    "collapsed": true
   },
   "outputs": [],
   "source": [
    "from sentence_transformers import SentenceTransformer\n",
    "model = SentenceTransformer('xlm-r-100langs-bert-base-nli-stsb-mean-tokens')"
   ]
  },
  {
   "cell_type": "code",
   "execution_count": 25,
   "metadata": {},
   "outputs": [],
   "source": [
    "corpus_embeddings = model.encode([x['text'] for x in unique_tweets])"
   ]
  },
  {
   "cell_type": "markdown",
   "metadata": {},
   "source": [
    "## Basic Visualization by PC"
   ]
  },
  {
   "cell_type": "code",
   "execution_count": 27,
   "metadata": {},
   "outputs": [],
   "source": [
    "from sklearn.decomposition import PCA\n",
    "import numpy as np\n",
    "X_sbert = np.vstack(corpus_embeddings).T\n",
    "\n",
    "pca_transform = PCA(n_components=2)\n",
    "transformed_data = pca_transform.fit_transform(X_sbert.T)\n",
    "\n"
   ]
  },
  {
   "cell_type": "code",
   "execution_count": 40,
   "metadata": {},
   "outputs": [
    {
     "name": "stdout",
     "output_type": "stream",
     "text": [
      "explained varianced of first two PCs 0.17071401327848434\n"
     ]
    }
   ],
   "source": [
    "print('explained varianced of first two PCs', sum(pca_transform.explained_variance_ratio_))"
   ]
  },
  {
   "cell_type": "code",
   "execution_count": 155,
   "metadata": {},
   "outputs": [
    {
     "data": {
      "text/plain": [
       "Text(0, 0.5, 'PC2')"
      ]
     },
     "execution_count": 155,
     "metadata": {},
     "output_type": "execute_result"
    },
    {
     "data": {
      "image/png": "[encoded data removed]",
      "text/plain": [
       "<Figure size 432x288 with 1 Axes>"
      ]
     },
     "metadata": {
      "needs_background": "light"
     },
     "output_type": "display_data"
    }
   ],
   "source": [
    "import matplotlib.pyplot as plt \n",
    "import matplotlib.patches as mpatches\n",
    "colors = ['b' if x['template'] == '' else 'r' for x in unique_tweets ]\n",
    "plt.scatter(transformed_data[:,0], transformed_data[:, 1], color=colors)\n",
    "plt.legend(handles=[mpatches.Patch(color='red', label='Template Tweets'), \n",
    "            mpatches.Patch(color='blue', label='Non-Template Tweets')])\n",
    "plt.title(\"#jharkhandwithmodi Sentence Transformer Embeddings\")\n",
    "plt.xlabel('PC1')\n",
    "plt.ylabel('PC2')"
   ]
  },
  {
   "cell_type": "code",
   "execution_count": 31,
   "metadata": {},
   "outputs": [
    {
     "data": {
      "text/plain": [
       "(7429,)"
      ]
     },
     "execution_count": 31,
     "metadata": {},
     "output_type": "execute_result"
    }
   ],
   "source": [
    "transformed_data[:,1].shape"
   ]
  },
  {
   "cell_type": "markdown",
   "metadata": {},
   "source": [
    "## Finding Nearest Neighbors"
   ]
  },
  {
   "cell_type": "code",
   "execution_count": 128,
   "metadata": {},
   "outputs": [],
   "source": [
    "from sklearn.neighbors import NearestNeighbors\n",
    "N_NEIGHBORS = 100\n",
    "nbrs = NearestNeighbors(n_neighbors=N_NEIGHBORS, algorithm='ball_tree').fit(X_sbert.T)"
   ]
  },
  {
   "cell_type": "code",
   "execution_count": 129,
   "metadata": {},
   "outputs": [],
   "source": [
    "distances, indices = nbrs.kneighbors(X_sbert.T)"
   ]
  },
  {
   "cell_type": "code",
   "execution_count": 145,
   "metadata": {},
   "outputs": [],
   "source": [
    "templates, normals = [], []\n",
    "for i, tweet in enumerate(unique_tweets):\n",
    "    neighbors = indices[i, :]\n",
    "    tweet_type = 'template' if tweet['template'] != '' else 'normal'\n",
    "    neighbor_tweets = np.array(unique_tweets)[neighbors]\n",
    "    n_template = len([x for x in neighbor_tweets if x['template'] != ''])\n",
    "    if tweet['template'] != '':\n",
    "        templates.append(n_template)\n",
    "    else:\n",
    "        normals.append(n_template)"
   ]
  },
  {
   "cell_type": "markdown",
   "metadata": {},
   "source": [
    "## Normalizing\n",
    "Need to normalize by prevalence in the dataset\n",
    "\n",
    "I should just plot % template and then also plot a line that shows the dataset % template\n"
   ]
  },
  {
   "cell_type": "code",
   "execution_count": 131,
   "metadata": {
    "collapsed": true
   },
   "outputs": [],
   "source": [
    "global_pct_temp = len(templates)/len(unique_tweets)"
   ]
  },
  {
   "cell_type": "code",
   "execution_count": 153,
   "metadata": {},
   "outputs": [
    {
     "data": {
      "text/plain": [
       "0.3825"
      ]
     },
     "execution_count": 153,
     "metadata": {},
     "output_type": "execute_result"
    }
   ],
   "source": [
    ".35*.74 + .65*.19"
   ]
  },
  {
   "cell_type": "code",
   "execution_count": 161,
   "metadata": {},
   "outputs": [
    {
     "name": "stdout",
     "output_type": "stream",
     "text": [
      "average % template of template neighbors 0.7374741676234213\n",
      "average % template of normal neighbors 0.19187707641196014\n",
      "% of tweets that are templates 0.35172970790146724\n"
     ]
    },
    {
     "data": {
      "image/png": "[encoded data removed]",
      "text/plain": [
       "<Figure size 432x288 with 1 Axes>"
      ]
     },
     "metadata": {
      "needs_background": "light"
     },
     "output_type": "display_data"
    }
   ],
   "source": [
    "temp_pcts = np.array(templates)/N_NEIGHBORS\n",
    "norm_pcts = np.array(normals)/N_NEIGHBORS\n",
    "plt.hist([temp_pcts, norm_pcts], label=['Templates', 'Non-Templates'], bins=20, density=True)\n",
    "plt.plot([global_pct_temp, global_pct_temp], [0,3], 'black', label='HT-wide Percent Template', linewidth=5, markersize=50)\n",
    "plt.legend()\n",
    "plt.title('% of Nearest Neighbors that are Templates')\n",
    "plt.xlabel('% of Nearest Neighbors that are Templates')\n",
    "\n",
    "print('average % template of template neighbors', np.mean(temp_pcts))\n",
    "print('average % template of normal neighbors', np.mean(norm_pcts))\n",
    "print('% of tweets that are templates', np.mean(global_pct_temp))"
   ]
  },
  {
   "cell_type": "markdown",
   "metadata": {},
   "source": [
    "## Creating a Script to run on all submessages"
   ]
  },
  {
   "cell_type": "code",
   "execution_count": 154,
   "metadata": {},
   "outputs": [
    {
     "data": {
      "text/plain": [
       "0.013460761879122358"
      ]
     },
     "execution_count": 154,
     "metadata": {},
     "output_type": "execute_result"
    }
   ],
   "source": [
    "100/len(unique_tweets)"
   ]
  },
  {
   "cell_type": "code",
   "execution_count": 1,
   "metadata": {
    "collapsed": true
   },
   "outputs": [],
   "source": [
    "import preprocessing\n",
    "from sentence_transformers import SentenceTransformer\n",
    "from sklearn.neighbors import NearestNeighbors\n",
    "campaigns = preprocessing.load_campaign()\n",
    "result_dict = {}\n",
    "embeddings_dict = {}\n",
    "for ht, campaign in campaigns.items():\n",
    "    result = {}\n",
    "    unique_tweets = []\n",
    "    templates = []\n",
    "    n_templates = 0\n",
    "    for tweet in campaign.values():\n",
    "        if tweet['template'] != '':\n",
    "            n_templates += 1\n",
    "            if  tweet['template'] not in templates:\n",
    "                unique_tweets.append(tweet)\n",
    "                templates.append(tweet['template'])\n",
    "        if tweet['retweet_id'] == '': # root tweet\n",
    "            unique_tweets.append(tweet)\n",
    "        result['unique_tweets'] = unique_tweets\n",
    "        result['len_unique_tweets'] = len(unique_tweets)\n",
    "        result['len_unique_templates'] =  len(templates)\n",
    "        result['len_total_templates'] = n_templates\n",
    "            \n",
    "    model = SentenceTransformer('xlm-r-100langs-bert-base-nli-stsb-mean-tokens')\n",
    "    corpus_embeddings = model.encode([x['text'] for x in unique_tweets])\n",
    "    embeddings_dict[ht] = corpus_embeddings\n",
    "\n",
    "    X_sbert = np.vstack(corpus_embeddings).T\n",
    "    N_NEIGHBORS = round(len(unique_tweets)/20) # search 5%\n",
    "    result['n_neighbors'] = N_NEIGHBORS\n",
    "    nbrs = NearestNeighbors(n_neighbors=N_NEIGHBORS, algorithm='ball_tree').fit(X_sbert.T)\n",
    "    distances, indices = nbrs.kneighbors(X_sbert.T)    \n",
    "    templates, normals = [], []\n",
    "    for i, tweet in enumerate(unique_tweets):\n",
    "        neighbors = indices[i, :]\n",
    "        tweet_type = 'template' if tweet['template'] != '' else 'normal'\n",
    "        neighbor_tweets = np.array(unique_tweets)[neighbors]\n",
    "        n_template = len([x for x in neighbor_tweets if x['template'] != ''])\n",
    "        if tweet['template'] != '':\n",
    "            templates.append(n_template)\n",
    "        else:\n",
    "            normals.append(n_template)\n",
    "            \n",
    "    result['template_n_template_neighbors'] = templates\n",
    "    result['normal_n_template_neighbors'] = normals\n",
    "    \n",
    "    global_pct_temp = len(templates)/len(unique_tweets)    \n",
    "    result['global_pct_temp'] = global_pct_temp"
   ]
  },
  {
   "cell_type": "markdown",
   "metadata": {},
   "source": [
    "## FAISS"
   ]
  },
  {
   "cell_type": "code",
   "execution_count": 41,
   "metadata": {},
   "outputs": [
    {
     "name": "stdout",
     "output_type": "stream",
     "text": [
      "init.c(556):ERROR:161: Cannot initialize TCL\r\n"
     ]
    }
   ],
   "source": [
    "! module load cuda/9.0"
   ]
  },
  {
   "cell_type": "code",
   "execution_count": 43,
   "metadata": {},
   "outputs": [
    {
     "name": "stdout",
     "output_type": "stream",
     "text": [
      "Fetching package metadata ...........\n",
      "Solving package specifications: .\n",
      "\n",
      "UnsatisfiableError: The following specifications were found to be in conflict:\n",
      "  - faiss-cpu -> libgcc -> _libgcc_mutex * free\n",
      "  - faiss-cpu -> python >=3.6,<3.7.0a0 -> openssl 1.0.2*\n",
      "  - faiss-cpu -> python >=3.6,<3.7.0a0 -> readline 6.2\n",
      "  - faiss-cpu -> python >=3.6,<3.7.0a0 -> sqlite 3.13.*\n",
      "  - faiss-cpu -> python >=3.6,<3.7.0a0 -> tk 8.5.18\n",
      "  - python 3.8*\n",
      "Use \"conda info <package>\" to see the dependencies for each package.\n",
      "\n"
     ]
    }
   ],
   "source": [
    "import sys\n",
    "!conda install --yes --prefix {sys.prefix} faiss-cpu -c pytorch\n",
    "#!conda install --yes --prefix {sys.prefix} faiss-gpu cudatoolkit=9.0 -c pytorch # For CUDA9"
   ]
  },
  {
   "cell_type": "code",
   "execution_count": null,
   "metadata": {
    "collapsed": true
   },
   "outputs": [],
   "source": []
  }
 ],
 "metadata": {
  "kernelspec": {
   "display_name": "gt",
   "language": "python",
   "name": "gt"
  },
  "language_info": {
   "codemirror_mode": {
    "name": "ipython",
    "version": 3
   },
   "file_extension": ".py",
   "mimetype": "text/x-python",
   "name": "python",
   "nbconvert_exporter": "python",
   "pygments_lexer": "ipython3",
   "version": "3.8.5"
  }
 },
 "nbformat": 4,
 "nbformat_minor": 2
}
