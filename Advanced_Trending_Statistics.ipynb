{
 "cells": [
  {
   "cell_type": "markdown",
   "metadata": {},
   "source": [
    "So, Twitter returns the trending info in the order it appears... where does each hashtag rank?"
   ]
  },
  {
   "cell_type": "code",
   "execution_count": 2,
   "metadata": {
    "collapsed": true
   },
   "outputs": [],
   "source": [
    "from imports import *"
   ]
  },
  {
   "cell_type": "code",
   "execution_count": 3,
   "metadata": {
    "collapsed": true
   },
   "outputs": [],
   "source": [
    "def get_trend_behavior(ht):\n",
    "    '''Takes a hashtag and compiles all trend date about it\n",
    "    Currently just returns the beginning and end of the trending status, but can do more potentially\n",
    "    '''\n",
    "    res = []\n",
    "    for entry in os.scandir(TRENDS_DIR):\n",
    "        # crude filtering for date csv names\n",
    "        if entry.path[-7] == '-':\n",
    "            df = pd.read_csv(entry, header=None,\n",
    "                            names=['hashtag', 'place',\n",
    "                                   'level', 'day',\n",
    "                                   'time', 'volume', 'nan'])\n",
    "            df['hashtag'] = df.hashtag.apply(lambda x: x.replace('#','').lower())\n",
    "            try:\n",
    "                df['datetime'] = pd.to_datetime(df.day + df.time, format='%Y-%m-%d%H:%M')\n",
    "            except:\n",
    "                print('error with hashtag', ht)\n",
    "                return df\n",
    "            temp = df.query(f'hashtag == \"{ht}\"')\n",
    "            if len(temp) > 0:\n",
    "                res.append(df)\n",
    "    if len(res) > 0:\n",
    "        return pd.concat(res)\n",
    "    else:\n",
    "        print(ht, 'did not appear to trend')\n",
    "        return pd.DataFrame()"
   ]
  },
  {
   "cell_type": "code",
   "execution_count": 15,
   "metadata": {
    "collapsed": true
   },
   "outputs": [],
   "source": [
    "def extract_trending_positions(df, ht):\n",
    "    df['datetime'] = pd.to_datetime(df.time + ' ' + df.day)\n",
    "    first_nationwide_trend = df.query(f'hashtag == \"{ht}\" and place == \"India\"').datetime.min()\n",
    "    temp = df[df.place == \"India\"]\n",
    "    temp = temp[temp.datetime >= first_nationwide_trend]\n",
    "    temp = temp.drop_duplicates()\n",
    "    temp['within_group_ranking'] = temp.groupby('datetime').datetime.transform(lambda x: list(range(len(x))))\n",
    "    return temp.query(f'hashtag == \"{ht}\"')#.within_group_ranking.to_list()"
   ]
  },
  {
   "cell_type": "code",
   "execution_count": 5,
   "metadata": {
    "collapsed": true
   },
   "outputs": [],
   "source": [
    "campaigns = preprocessing.load_campaign()"
   ]
  },
  {
   "cell_type": "code",
   "execution_count": 16,
   "metadata": {},
   "outputs": [
    {
     "name": "stdout",
     "output_type": "stream",
     "text": [
      "jharkhandwithmodi\n",
      "surgingsilk\n",
      "merapmmeraabhimaan\n",
      "kiamadeinap\n",
      "dousupportnaxals\n",
      "mizoramwithmodi\n",
      "timesofrahul\n",
      "threadsofexcellence\n",
      "msmetextilesconclave\n",
      "bjp4jind\n",
      "म्हारा_वोट_भाजपा_को\n",
      "parakramparv\n",
      "technicaltextiles\n",
      "himachalkacu\n",
      "congaapbhaibhai\n",
      "sizeindia\n",
      "savekeralafromcommunists\n",
      "copypastencp\n",
      "bjp4betterandhra\n",
      "jaihindkisena\n",
      "congressinsultsairforce\n",
      "armedforcesweek2018\n",
      "newindia4narishakti\n",
      "congressdefencescams\n",
      "pminprayagraj\n",
      "amethikididismritiirani\n",
      "namowithtraders\n",
      "corruptcongressfearsdemo\n",
      "artisanspeak\n",
      "indiabolemodidobara\n",
      "urban_नक्सली_केजरीवाल\n",
      "zamanatke1000din\n",
      "yuvakemannkibaat\n",
      "iafbacksrafale\n",
      "भारत_माता_की_जय\n",
      "namothon\n",
      "लक्ष्य_हमारा_मोदी_दोबारा\n",
      "आदर्शघोटाला_संघर्ष_यात्रा\n",
      "pminraebareli\n",
      "bjpforsamridhkisan\n",
      "facebookboomed\n",
      "badalrahihaikashi\n",
      "lawlessodisha\n",
      "rafailgandhi\n",
      "rahulkidefencedeals\n",
      "rahulgandhijavabdo\n",
      "ragafailonrafale\n",
      "successofmakeinindia\n",
      "pmkisan\n",
      "congresseurofighterscandal\n",
      "modimeinhaidum\n",
      "takingforwardhinducause\n",
      "myfirstvoteformodi\n",
      "shahforgandhinagar\n",
      "maikamalkhilaneayahu\n",
      "उत्तरप्रदेश_विजय_संकल्प\n",
      "removetraitorsfromdu\n",
      "devendra4maharashtra\n",
      "andhrawithmodi\n",
      "jaihobc\n",
      "modifiedtextiles\n",
      "meraparivarbhajapaparivar\n",
      "modifiedjobs\n",
      "gappupappu\n"
     ]
    }
   ],
   "source": [
    "res_dict = {}\n",
    "for hashtag in campaigns.keys():\n",
    "    if hashtag not in preprocessing.bandwagon_hashtags and hashtag not in preprocessing.never_trended:\n",
    "        print(hashtag)\n",
    "        f_name = os.path.join(TRENDS_DIR, f'{hashtag}_country_trending.pkl')\n",
    "        extract_trending_positions(get_trend_behavior(hashtag), hashtag).to_pickle(f_name)"
   ]
  },
  {
   "cell_type": "code",
   "execution_count": 50,
   "metadata": {
    "collapsed": true
   },
   "outputs": [],
   "source": [
    "with open(os.path.join(TWITTER_DATA_DIR, 'trending_rankings.pkl'), 'wb') as f:\n",
    "    pickle.dump(res_dict,f)"
   ]
  },
  {
   "cell_type": "markdown",
   "metadata": {},
   "source": [
    "# Debug\n"
   ]
  },
  {
   "cell_type": "code",
   "execution_count": 8,
   "metadata": {
    "collapsed": true
   },
   "outputs": [],
   "source": [
    "ht = 'jharkhandwithmodi'\n",
    "df = get_trend_behavior(ht)"
   ]
  },
  {
   "cell_type": "code",
   "execution_count": 12,
   "metadata": {},
   "outputs": [
    {
     "data": {
      "text/html": [
       "<div>\n",
       "<style scoped>\n",
       "    .dataframe tbody tr th:only-of-type {\n",
       "        vertical-align: middle;\n",
       "    }\n",
       "\n",
       "    .dataframe tbody tr th {\n",
       "        vertical-align: top;\n",
       "    }\n",
       "\n",
       "    .dataframe thead th {\n",
       "        text-align: right;\n",
       "    }\n",
       "</style>\n",
       "<table border=\"1\" class=\"dataframe\">\n",
       "  <thead>\n",
       "    <tr style=\"text-align: right;\">\n",
       "      <th></th>\n",
       "      <th>hashtag</th>\n",
       "      <th>place</th>\n",
       "      <th>level</th>\n",
       "      <th>day</th>\n",
       "      <th>time</th>\n",
       "      <th>volume</th>\n",
       "      <th>nan</th>\n",
       "      <th>datetime</th>\n",
       "    </tr>\n",
       "  </thead>\n",
       "  <tbody>\n",
       "    <tr>\n",
       "      <th>12081</th>\n",
       "      <td>jharkhandwithmodi</td>\n",
       "      <td>India</td>\n",
       "      <td>Country</td>\n",
       "      <td>2019-02-17</td>\n",
       "      <td>10:00</td>\n",
       "      <td>NaN</td>\n",
       "      <td>NaN</td>\n",
       "      <td>2019-02-17 10:00:00</td>\n",
       "    </tr>\n",
       "    <tr>\n",
       "      <th>13154</th>\n",
       "      <td>jharkhandwithmodi</td>\n",
       "      <td>India</td>\n",
       "      <td>Country</td>\n",
       "      <td>2019-02-17</td>\n",
       "      <td>11:00</td>\n",
       "      <td>NaN</td>\n",
       "      <td>NaN</td>\n",
       "      <td>2019-02-17 11:00:00</td>\n",
       "    </tr>\n",
       "    <tr>\n",
       "      <th>14256</th>\n",
       "      <td>jharkhandwithmodi</td>\n",
       "      <td>India</td>\n",
       "      <td>Country</td>\n",
       "      <td>2019-02-17</td>\n",
       "      <td>12:00</td>\n",
       "      <td>NaN</td>\n",
       "      <td>NaN</td>\n",
       "      <td>2019-02-17 12:00:00</td>\n",
       "    </tr>\n",
       "    <tr>\n",
       "      <th>15379</th>\n",
       "      <td>jharkhandwithmodi</td>\n",
       "      <td>India</td>\n",
       "      <td>Country</td>\n",
       "      <td>2019-02-17</td>\n",
       "      <td>13:00</td>\n",
       "      <td>NaN</td>\n",
       "      <td>NaN</td>\n",
       "      <td>2019-02-17 13:00:00</td>\n",
       "    </tr>\n",
       "    <tr>\n",
       "      <th>16478</th>\n",
       "      <td>jharkhandwithmodi</td>\n",
       "      <td>India</td>\n",
       "      <td>Country</td>\n",
       "      <td>2019-02-17</td>\n",
       "      <td>14:00</td>\n",
       "      <td>NaN</td>\n",
       "      <td>NaN</td>\n",
       "      <td>2019-02-17 14:00:00</td>\n",
       "    </tr>\n",
       "    <tr>\n",
       "      <th>17588</th>\n",
       "      <td>jharkhandwithmodi</td>\n",
       "      <td>India</td>\n",
       "      <td>Country</td>\n",
       "      <td>2019-02-17</td>\n",
       "      <td>15:00</td>\n",
       "      <td>11041.0</td>\n",
       "      <td>NaN</td>\n",
       "      <td>2019-02-17 15:00:00</td>\n",
       "    </tr>\n",
       "    <tr>\n",
       "      <th>18697</th>\n",
       "      <td>jharkhandwithmodi</td>\n",
       "      <td>India</td>\n",
       "      <td>Country</td>\n",
       "      <td>2019-02-17</td>\n",
       "      <td>16:00</td>\n",
       "      <td>11804.0</td>\n",
       "      <td>NaN</td>\n",
       "      <td>2019-02-17 16:00:00</td>\n",
       "    </tr>\n",
       "  </tbody>\n",
       "</table>\n",
       "</div>"
      ],
      "text/plain": [
       "                 hashtag  place    level         day   time   volume  nan  \\\n",
       "12081  jharkhandwithmodi  India  Country  2019-02-17  10:00      NaN  NaN   \n",
       "13154  jharkhandwithmodi  India  Country  2019-02-17  11:00      NaN  NaN   \n",
       "14256  jharkhandwithmodi  India  Country  2019-02-17  12:00      NaN  NaN   \n",
       "15379  jharkhandwithmodi  India  Country  2019-02-17  13:00      NaN  NaN   \n",
       "16478  jharkhandwithmodi  India  Country  2019-02-17  14:00      NaN  NaN   \n",
       "17588  jharkhandwithmodi  India  Country  2019-02-17  15:00  11041.0  NaN   \n",
       "18697  jharkhandwithmodi  India  Country  2019-02-17  16:00  11804.0  NaN   \n",
       "\n",
       "                 datetime  \n",
       "12081 2019-02-17 10:00:00  \n",
       "13154 2019-02-17 11:00:00  \n",
       "14256 2019-02-17 12:00:00  \n",
       "15379 2019-02-17 13:00:00  \n",
       "16478 2019-02-17 14:00:00  \n",
       "17588 2019-02-17 15:00:00  \n",
       "18697 2019-02-17 16:00:00  "
      ]
     },
     "execution_count": 12,
     "metadata": {},
     "output_type": "execute_result"
    }
   ],
   "source": [
    "df.query('level == \"Country\" and hashtag == \"jharkhandwithmodi\"').drop_duplicates()"
   ]
  },
  {
   "cell_type": "code",
   "execution_count": 52,
   "metadata": {},
   "outputs": [
    {
     "data": {
      "text/plain": [
       "jharkhandwithmodi             4\n",
       "surgingsilk                   4\n",
       "merapmmeraabhimaan            0\n",
       "kiamadeinap                  30\n",
       "dousupportnaxals             17\n",
       "                             ..\n",
       "jaihobc                      39\n",
       "modifiedtextiles             21\n",
       "meraparivarbhajapaparivar     0\n",
       "modifiedjobs                  0\n",
       "gappupappu                   18\n",
       "Length: 64, dtype: int64"
      ]
     },
     "execution_count": 52,
     "metadata": {},
     "output_type": "execute_result"
    }
   ],
   "source": [
    "top_rankings = {k: min(v) for k,v in res_dict.items()}\n",
    "pd.Series(top_rankings)"
   ]
  },
  {
   "cell_type": "code",
   "execution_count": 54,
   "metadata": {
    "scrolled": true
   },
   "outputs": [
    {
     "data": {
      "text/plain": [
       "{'jharkhandwithmodi': 31,\n",
       " 'surgingsilk': 4,\n",
       " 'merapmmeraabhimaan': 1,\n",
       " 'kiamadeinap': 30,\n",
       " 'dousupportnaxals': 17,\n",
       " 'mizoramwithmodi': 35,\n",
       " 'timesofrahul': 29,\n",
       " 'threadsofexcellence': 1,\n",
       " 'msmetextilesconclave': 29,\n",
       " 'bjp4jind': 27,\n",
       " 'म्हारा_वोट_भाजपा_को': 15,\n",
       " 'parakramparv': 2,\n",
       " 'technicaltextiles': 32,\n",
       " 'himachalkacu': 44,\n",
       " 'congaapbhaibhai': 30,\n",
       " 'sizeindia': 23,\n",
       " 'savekeralafromcommunists': 5,\n",
       " 'copypastencp': 24,\n",
       " 'bjp4betterandhra': 26,\n",
       " 'jaihindkisena': 3,\n",
       " 'congressinsultsairforce': 4,\n",
       " 'armedforcesweek2018': 4,\n",
       " 'newindia4narishakti': 13,\n",
       " 'congressdefencescams': 4,\n",
       " 'pminprayagraj': 4,\n",
       " 'amethikididismritiirani': 47,\n",
       " 'namowithtraders': 35,\n",
       " 'corruptcongressfearsdemo': 35,\n",
       " 'artisanspeak': 3,\n",
       " 'indiabolemodidobara': 28,\n",
       " 'urban_नक्सली_केजरीवाल': 37,\n",
       " 'zamanatke1000din': 4,\n",
       " 'yuvakemannkibaat': 27,\n",
       " 'iafbacksrafale': 22,\n",
       " 'भारत_माता_की_जय': 38,\n",
       " 'namothon': 26,\n",
       " 'लक्ष्य_हमारा_मोदी_दोबारा': 1,\n",
       " 'आदर्शघोटाला_संघर्ष_यात्रा': 7,\n",
       " 'pminraebareli': 4,\n",
       " 'bjpforsamridhkisan': 33,\n",
       " 'facebookboomed': 24,\n",
       " 'badalrahihaikashi': 29,\n",
       " 'lawlessodisha': 2,\n",
       " 'rafailgandhi': 3,\n",
       " 'rahulkidefencedeals': 22,\n",
       " 'rahulgandhijavabdo': 2,\n",
       " 'ragafailonrafale': 1,\n",
       " 'successofmakeinindia': 2,\n",
       " 'pmkisan': 43,\n",
       " 'congresseurofighterscandal': 2,\n",
       " 'modimeinhaidum': 21,\n",
       " 'takingforwardhinducause': 23,\n",
       " 'myfirstvoteformodi': 30,\n",
       " 'shahforgandhinagar': 32,\n",
       " 'maikamalkhilaneayahu': 4,\n",
       " 'उत्तरप्रदेश_विजय_संकल्प': 43,\n",
       " 'removetraitorsfromdu': 28,\n",
       " 'devendra4maharashtra': 18,\n",
       " 'andhrawithmodi': 25,\n",
       " 'jaihobc': 39,\n",
       " 'modifiedtextiles': 21,\n",
       " 'meraparivarbhajapaparivar': 31,\n",
       " 'modifiedjobs': 25,\n",
       " 'gappupappu': 20}"
      ]
     },
     "execution_count": 54,
     "metadata": {},
     "output_type": "execute_result"
    }
   ],
   "source": [
    "{k: v[0] for k,v in res_dict.items()}"
   ]
  },
  {
   "cell_type": "code",
   "execution_count": 59,
   "metadata": {},
   "outputs": [
    {
     "data": {
      "text/plain": [
       "Text(0.5, 1.0, '# of Hours Hashtag Trended For')"
      ]
     },
     "execution_count": 59,
     "metadata": {},
     "output_type": "execute_result"
    },
    {
     "data": {
      "image/png": "[encoded data removed]",
      "text/plain": [
       "<Figure size 864x576 with 1 Axes>"
      ]
     },
     "metadata": {
      "needs_background": "light"
     },
     "output_type": "display_data"
    }
   ],
   "source": [
    "plt.hist([len(v) for k,v in res_dict.items()], bins=20)\n",
    "plt.title('# of Hours Hashtag Trended For')"
   ]
  },
  {
   "cell_type": "code",
   "execution_count": 62,
   "metadata": {},
   "outputs": [
    {
     "data": {
      "text/plain": [
       "Text(0.5, 1.0, 'Average Ranking')"
      ]
     },
     "execution_count": 62,
     "metadata": {},
     "output_type": "execute_result"
    },
    {
     "data": {
      "image/png": "[encoded data removed]",
      "text/plain": [
       "<Figure size 864x576 with 1 Axes>"
      ]
     },
     "metadata": {
      "needs_background": "light"
     },
     "output_type": "display_data"
    }
   ],
   "source": [
    "plt.hist([np.mean(v) for k,v in res_dict.items()], bins=20)\n",
    "plt.title('Average Ranking')"
   ]
  },
  {
   "cell_type": "code",
   "execution_count": 61,
   "metadata": {},
   "outputs": [
    {
     "data": {
      "text/plain": [
       "Text(0.5, 1.0, 'Peak Ranking')"
      ]
     },
     "execution_count": 61,
     "metadata": {},
     "output_type": "execute_result"
    },
    {
     "data": {
      "image/png": "[encoded data removed]",
      "text/plain": [
       "<Figure size 864x576 with 1 Axes>"
      ]
     },
     "metadata": {
      "needs_background": "light"
     },
     "output_type": "display_data"
    }
   ],
   "source": [
    "plt.hist([min(v) for k,v in res_dict.items()], bins=20)\n",
    "plt.title('Peak Ranking')"
   ]
  },
  {
   "cell_type": "code",
   "execution_count": 64,
   "metadata": {},
   "outputs": [
    {
     "data": {
      "text/plain": [
       "Text(0, 0.5, 'Peak Ranking')"
      ]
     },
     "execution_count": 64,
     "metadata": {},
     "output_type": "execute_result"
    },
    {
     "data": {
      "image/png": "[encoded data removed]",
      "text/plain": [
       "<Figure size 864x576 with 1 Axes>"
      ]
     },
     "metadata": {
      "needs_background": "light"
     },
     "output_type": "display_data"
    }
   ],
   "source": [
    "plt.scatter([v.index(min(v)) for k,v in res_dict.items()], [min(v) for k,v in res_dict.items()])\n",
    "plt.xlabel('Time Until Reaching Peak Ranking')\n",
    "plt.ylabel('Peak Ranking')"
   ]
  },
  {
   "cell_type": "code",
   "execution_count": 60,
   "metadata": {},
   "outputs": [
    {
     "data": {
      "text/plain": [
       "Text(0.5, 1.0, 'Time of Reaching Peak Ranking')"
      ]
     },
     "execution_count": 60,
     "metadata": {},
     "output_type": "execute_result"
    },
    {
     "data": {
      "image/png": "[encoded data removed]",
      "text/plain": [
       "<Figure size 864x576 with 1 Axes>"
      ]
     },
     "metadata": {
      "needs_background": "light"
     },
     "output_type": "display_data"
    }
   ],
   "source": [
    "plt.hist([v.index(min(v)) for k,v in res_dict.items()], bins=20)\n",
    "plt.title('Time of Reaching Peak Ranking')"
   ]
  },
  {
   "cell_type": "code",
   "execution_count": 53,
   "metadata": {},
   "outputs": [
    {
     "data": {
      "text/plain": [
       "{'jharkhandwithmodi': 1,\n",
       " 'surgingsilk': 0,\n",
       " 'merapmmeraabhimaan': 2,\n",
       " 'kiamadeinap': 0,\n",
       " 'dousupportnaxals': 0,\n",
       " 'mizoramwithmodi': 0,\n",
       " 'timesofrahul': 1,\n",
       " 'threadsofexcellence': 0,\n",
       " 'msmetextilesconclave': 0,\n",
       " 'bjp4jind': 1,\n",
       " 'म्हारा_वोट_भाजपा_को': 3,\n",
       " 'parakramparv': 0,\n",
       " 'technicaltextiles': 1,\n",
       " 'himachalkacu': 1,\n",
       " 'congaapbhaibhai': 2,\n",
       " 'sizeindia': 0,\n",
       " 'savekeralafromcommunists': 1,\n",
       " 'copypastencp': 0,\n",
       " 'bjp4betterandhra': 3,\n",
       " 'jaihindkisena': 0,\n",
       " 'congressinsultsairforce': 0,\n",
       " 'armedforcesweek2018': 1,\n",
       " 'newindia4narishakti': 1,\n",
       " 'congressdefencescams': 0,\n",
       " 'pminprayagraj': 1,\n",
       " 'amethikididismritiirani': 1,\n",
       " 'namowithtraders': 3,\n",
       " 'corruptcongressfearsdemo': 8,\n",
       " 'artisanspeak': 0,\n",
       " 'indiabolemodidobara': 4,\n",
       " 'urban_नक्सली_केजरीवाल': 2,\n",
       " 'zamanatke1000din': 0,\n",
       " 'yuvakemannkibaat': 0,\n",
       " 'iafbacksrafale': 1,\n",
       " 'भारत_माता_की_जय': 4,\n",
       " 'namothon': 0,\n",
       " 'लक्ष्य_हमारा_मोदी_दोबारा': 1,\n",
       " 'आदर्शघोटाला_संघर्ष_यात्रा': 0,\n",
       " 'pminraebareli': 1,\n",
       " 'bjpforsamridhkisan': 0,\n",
       " 'facebookboomed': 1,\n",
       " 'badalrahihaikashi': 1,\n",
       " 'lawlessodisha': 0,\n",
       " 'rafailgandhi': 0,\n",
       " 'rahulkidefencedeals': 0,\n",
       " 'rahulgandhijavabdo': 0,\n",
       " 'ragafailonrafale': 0,\n",
       " 'successofmakeinindia': 0,\n",
       " 'pmkisan': 8,\n",
       " 'congresseurofighterscandal': 0,\n",
       " 'modimeinhaidum': 1,\n",
       " 'takingforwardhinducause': 0,\n",
       " 'myfirstvoteformodi': 19,\n",
       " 'shahforgandhinagar': 0,\n",
       " 'maikamalkhilaneayahu': 1,\n",
       " 'उत्तरप्रदेश_विजय_संकल्प': 0,\n",
       " 'removetraitorsfromdu': 1,\n",
       " 'devendra4maharashtra': 0,\n",
       " 'andhrawithmodi': 3,\n",
       " 'jaihobc': 0,\n",
       " 'modifiedtextiles': 0,\n",
       " 'meraparivarbhajapaparivar': 21,\n",
       " 'modifiedjobs': 1,\n",
       " 'gappupappu': 5}"
      ]
     },
     "execution_count": 53,
     "metadata": {},
     "output_type": "execute_result"
    }
   ],
   "source": [
    "{k: v.index(min(v)) for k,v in res_dict.items()}"
   ]
  },
  {
   "cell_type": "code",
   "execution_count": null,
   "metadata": {
    "collapsed": true
   },
   "outputs": [],
   "source": []
  }
 ],
 "metadata": {
  "kernelspec": {
   "display_name": "gt",
   "language": "python",
   "name": "gt"
  },
  "language_info": {
   "codemirror_mode": {
    "name": "ipython",
    "version": 3
   },
   "file_extension": ".py",
   "mimetype": "text/x-python",
   "name": "python",
   "nbconvert_exporter": "python",
   "pygments_lexer": "ipython3",
   "version": "3.8.5"
  }
 },
 "nbformat": 4,
 "nbformat_minor": 2
}
