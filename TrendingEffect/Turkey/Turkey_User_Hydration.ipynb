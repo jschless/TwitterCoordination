{
 "cells": [
  {
   "cell_type": "code",
   "execution_count": 5,
   "metadata": {
    "collapsed": true
   },
   "outputs": [],
   "source": [
    "import os\n",
    "TURKEY_DIR = '/pool001/jschless/turkish_astroturfing'"
   ]
  },
  {
   "cell_type": "code",
   "execution_count": 7,
   "metadata": {},
   "outputs": [
    {
     "data": {
      "text/plain": [
       "['trend_analysis.csv',\n",
       " 'trend_analysis_top10.csv',\n",
       " 'trend_tweets.csv.zip',\n",
       " 'world_trend_analysis.csv',\n",
       " 'world_trend_analysis_top10.csv',\n",
       " 'trend_tweets.csv',\n",
       " '__MACOSX']"
      ]
     },
     "execution_count": 7,
     "metadata": {},
     "output_type": "execute_result"
    }
   ],
   "source": [
    "os.listdir(TURKEY_DIR)"
   ]
  },
  {
   "cell_type": "code",
   "execution_count": 8,
   "metadata": {
    "collapsed": true
   },
   "outputs": [],
   "source": [
    "import pandas as pd"
   ]
  },
  {
   "cell_type": "code",
   "execution_count": 10,
   "metadata": {},
   "outputs": [
    {
     "data": {
      "text/html": [
       "<div>\n",
       "<style scoped>\n",
       "    .dataframe tbody tr th:only-of-type {\n",
       "        vertical-align: middle;\n",
       "    }\n",
       "\n",
       "    .dataframe tbody tr th {\n",
       "        vertical-align: top;\n",
       "    }\n",
       "\n",
       "    .dataframe thead th {\n",
       "        text-align: right;\n",
       "    }\n",
       "</style>\n",
       "<table border=\"1\" class=\"dataframe\">\n",
       "  <thead>\n",
       "    <tr style=\"text-align: right;\">\n",
       "      <th></th>\n",
       "      <th>author_id</th>\n",
       "      <th>created_at</th>\n",
       "      <th>date</th>\n",
       "      <th>id</th>\n",
       "      <th>text</th>\n",
       "      <th>trend</th>\n",
       "      <th>trend_date</th>\n",
       "      <th>tweet_type</th>\n",
       "    </tr>\n",
       "  </thead>\n",
       "  <tbody>\n",
       "    <tr>\n",
       "      <th>0</th>\n",
       "      <td>1119932693045760001</td>\n",
       "      <td>2019-09-01 00:00:28</td>\n",
       "      <td>2019-09-01</td>\n",
       "      <td>1167950312658751488</td>\n",
       "      <td>RT @hayalcasino: 🗣️Özel Etkinlik!  ➡️Etkinlilğ...</td>\n",
       "      <td>#Hayalbahis50TL</td>\n",
       "      <td>2019-09-01</td>\n",
       "      <td>retweet</td>\n",
       "    </tr>\n",
       "    <tr>\n",
       "      <th>1</th>\n",
       "      <td>95597542</td>\n",
       "      <td>2019-09-01 00:00:42</td>\n",
       "      <td>2019-09-01</td>\n",
       "      <td>1167950371358203904</td>\n",
       "      <td>RT @krtkulturtv: CAMİDE CEMAAT BİRBİRİNE GİRDİ...</td>\n",
       "      <td>Cami</td>\n",
       "      <td>2019-08-31</td>\n",
       "      <td>retweet</td>\n",
       "    </tr>\n",
       "    <tr>\n",
       "      <th>2</th>\n",
       "      <td>95597542</td>\n",
       "      <td>2019-09-01 00:00:42</td>\n",
       "      <td>2019-09-01</td>\n",
       "      <td>1167950371358203904</td>\n",
       "      <td>RT @krtkulturtv: CAMİDE CEMAAT BİRBİRİNE GİRDİ...</td>\n",
       "      <td>Atatürk</td>\n",
       "      <td>2019-09-01</td>\n",
       "      <td>retweet</td>\n",
       "    </tr>\n",
       "    <tr>\n",
       "      <th>3</th>\n",
       "      <td>1160300057331228674</td>\n",
       "      <td>2019-09-01 00:01:12</td>\n",
       "      <td>2019-09-01</td>\n",
       "      <td>1167943496906358784</td>\n",
       "      <td>Tolga Isleyen sizinle Skype'ta sohbet etmek is...</td>\n",
       "      <td>Tolga</td>\n",
       "      <td>2019-09-01</td>\n",
       "      <td>deletion</td>\n",
       "    </tr>\n",
       "    <tr>\n",
       "      <th>4</th>\n",
       "      <td>964625277983879169</td>\n",
       "      <td>2019-09-01 00:01:12</td>\n",
       "      <td>2019-09-01</td>\n",
       "      <td>1167950497208139779</td>\n",
       "      <td>RT @ParcaliOfficial: FORMA ÇEKİLİŞİ 🔥🔥🔥🔥 | Ben...</td>\n",
       "      <td>#GeliyoruzFalcao</td>\n",
       "      <td>2019-09-01</td>\n",
       "      <td>retweet</td>\n",
       "    </tr>\n",
       "    <tr>\n",
       "      <th>...</th>\n",
       "      <td>...</td>\n",
       "      <td>...</td>\n",
       "      <td>...</td>\n",
       "      <td>...</td>\n",
       "      <td>...</td>\n",
       "      <td>...</td>\n",
       "      <td>...</td>\n",
       "      <td>...</td>\n",
       "    </tr>\n",
       "    <tr>\n",
       "      <th>25361</th>\n",
       "      <td>2222747803</td>\n",
       "      <td>2019-09-02 22:23:49</td>\n",
       "      <td>2019-09-01</td>\n",
       "      <td>1168232077617242112</td>\n",
       "      <td>RT @GalatasaraySK: Kulübümüze transferi için g...</td>\n",
       "      <td>Galatasaray</td>\n",
       "      <td>2019-08-31</td>\n",
       "      <td>deletion</td>\n",
       "    </tr>\n",
       "    <tr>\n",
       "      <th>25362</th>\n",
       "      <td>1025922948069314560</td>\n",
       "      <td>2019-09-02 23:00:28</td>\n",
       "      <td>2019-09-01</td>\n",
       "      <td>1168280605689339904</td>\n",
       "      <td>RT @nilgunm75: Mustafa Kemal’i düşünüyorum Gel...</td>\n",
       "      <td>kutlu olsun</td>\n",
       "      <td>2019-08-31</td>\n",
       "      <td>deletion</td>\n",
       "    </tr>\n",
       "    <tr>\n",
       "      <th>25363</th>\n",
       "      <td>1025922948069314560</td>\n",
       "      <td>2019-09-02 23:00:28</td>\n",
       "      <td>2019-09-01</td>\n",
       "      <td>1168280605689339904</td>\n",
       "      <td>RT @nilgunm75: Mustafa Kemal’i düşünüyorum Gel...</td>\n",
       "      <td>30 Ağustos</td>\n",
       "      <td>2019-08-31</td>\n",
       "      <td>deletion</td>\n",
       "    </tr>\n",
       "    <tr>\n",
       "      <th>25364</th>\n",
       "      <td>1042725550312312833</td>\n",
       "      <td>2019-09-02 23:01:14</td>\n",
       "      <td>2019-09-01</td>\n",
       "      <td>1168179392939515904</td>\n",
       "      <td>Bitti mi  şimdi, bu kadar mı gücümüz? @unibilg...</td>\n",
       "      <td>#KYKZamlarınaHayır</td>\n",
       "      <td>2019-09-02</td>\n",
       "      <td>deletion</td>\n",
       "    </tr>\n",
       "    <tr>\n",
       "      <th>25365</th>\n",
       "      <td>1042725550312312833</td>\n",
       "      <td>2019-09-02 23:01:14</td>\n",
       "      <td>2019-09-01</td>\n",
       "      <td>1168179392939515904</td>\n",
       "      <td>Bitti mi  şimdi, bu kadar mı gücümüz? @unibilg...</td>\n",
       "      <td>#KYKZamlarınaHayır</td>\n",
       "      <td>2019-09-01</td>\n",
       "      <td>deletion</td>\n",
       "    </tr>\n",
       "  </tbody>\n",
       "</table>\n",
       "<p>25366 rows × 8 columns</p>\n",
       "</div>"
      ],
      "text/plain": [
       "                 author_id           created_at        date  \\\n",
       "0      1119932693045760001  2019-09-01 00:00:28  2019-09-01   \n",
       "1                 95597542  2019-09-01 00:00:42  2019-09-01   \n",
       "2                 95597542  2019-09-01 00:00:42  2019-09-01   \n",
       "3      1160300057331228674  2019-09-01 00:01:12  2019-09-01   \n",
       "4       964625277983879169  2019-09-01 00:01:12  2019-09-01   \n",
       "...                    ...                  ...         ...   \n",
       "25361           2222747803  2019-09-02 22:23:49  2019-09-01   \n",
       "25362  1025922948069314560  2019-09-02 23:00:28  2019-09-01   \n",
       "25363  1025922948069314560  2019-09-02 23:00:28  2019-09-01   \n",
       "25364  1042725550312312833  2019-09-02 23:01:14  2019-09-01   \n",
       "25365  1042725550312312833  2019-09-02 23:01:14  2019-09-01   \n",
       "\n",
       "                        id                                               text  \\\n",
       "0      1167950312658751488  RT @hayalcasino: 🗣️Özel Etkinlik!  ➡️Etkinlilğ...   \n",
       "1      1167950371358203904  RT @krtkulturtv: CAMİDE CEMAAT BİRBİRİNE GİRDİ...   \n",
       "2      1167950371358203904  RT @krtkulturtv: CAMİDE CEMAAT BİRBİRİNE GİRDİ...   \n",
       "3      1167943496906358784  Tolga Isleyen sizinle Skype'ta sohbet etmek is...   \n",
       "4      1167950497208139779  RT @ParcaliOfficial: FORMA ÇEKİLİŞİ 🔥🔥🔥🔥 | Ben...   \n",
       "...                    ...                                                ...   \n",
       "25361  1168232077617242112  RT @GalatasaraySK: Kulübümüze transferi için g...   \n",
       "25362  1168280605689339904  RT @nilgunm75: Mustafa Kemal’i düşünüyorum Gel...   \n",
       "25363  1168280605689339904  RT @nilgunm75: Mustafa Kemal’i düşünüyorum Gel...   \n",
       "25364  1168179392939515904  Bitti mi  şimdi, bu kadar mı gücümüz? @unibilg...   \n",
       "25365  1168179392939515904  Bitti mi  şimdi, bu kadar mı gücümüz? @unibilg...   \n",
       "\n",
       "                    trend  trend_date tweet_type  \n",
       "0         #Hayalbahis50TL  2019-09-01    retweet  \n",
       "1                    Cami  2019-08-31    retweet  \n",
       "2                 Atatürk  2019-09-01    retweet  \n",
       "3                   Tolga  2019-09-01   deletion  \n",
       "4        #GeliyoruzFalcao  2019-09-01    retweet  \n",
       "...                   ...         ...        ...  \n",
       "25361         Galatasaray  2019-08-31   deletion  \n",
       "25362         kutlu olsun  2019-08-31   deletion  \n",
       "25363          30 Ağustos  2019-08-31   deletion  \n",
       "25364  #KYKZamlarınaHayır  2019-09-02   deletion  \n",
       "25365  #KYKZamlarınaHayır  2019-09-01   deletion  \n",
       "\n",
       "[25366 rows x 8 columns]"
      ]
     },
     "execution_count": 10,
     "metadata": {},
     "output_type": "execute_result"
    }
   ],
   "source": [
    "df = pd.read_csv(os.path.join(TURKEY_DIR, 'trend_tweets.csv'))\n",
    "df"
   ]
  },
  {
   "cell_type": "code",
   "execution_count": null,
   "metadata": {
    "collapsed": true
   },
   "outputs": [],
   "source": []
  },
  {
   "cell_type": "code",
   "execution_count": 22,
   "metadata": {},
   "outputs": [
    {
     "data": {
      "text/plain": [
       "9943"
      ]
     },
     "execution_count": 22,
     "metadata": {},
     "output_type": "execute_result"
    }
   ],
   "source": [
    "len(df.author_id.unique())"
   ]
  },
  {
   "cell_type": "code",
   "execution_count": 23,
   "metadata": {
    "collapsed": true
   },
   "outputs": [],
   "source": [
    "import tweepy\n",
    "\n",
    "consumer_key = 'vS8BMBqq4GyO2heCjI2esKif6'\n",
    "consumer_secret = 'cqfxKb0KIll78aTERK19muj3z03Xi6Ao7fRcoYbA7MAz6OcE1f'\n",
    "\n",
    "auth = tweepy.AppAuthHandler(consumer_key, consumer_secret)\n",
    "api = tweepy.API(auth, wait_on_rate_limit=True)"
   ]
  },
  {
   "cell_type": "code",
   "execution_count": 24,
   "metadata": {},
   "outputs": [],
   "source": [
    "t = api.followers(user_id='1042725550312312833')"
   ]
  },
  {
   "cell_type": "code",
   "execution_count": 36,
   "metadata": {
    "collapsed": true
   },
   "outputs": [],
   "source": [
    "rel_keys = ['id', 'id_str', 'name', 'screen_name', 'location', \n",
    "            'description', 'protected', 'followers_count', \n",
    "            'friends_count', 'listed_count', 'created_at']"
   ]
  },
  {
   "cell_type": "code",
   "execution_count": 41,
   "metadata": {},
   "outputs": [
    {
     "name": "stdout",
     "output_type": "stream",
     "text": [
      "dict_keys(['id', 'id_str', 'name', 'screen_name', 'location', 'description', 'url', 'entities', 'protected', 'followers_count', 'friends_count', 'listed_count', 'created_at', 'favourites_count', 'utc_offset', 'time_zone', 'geo_enabled', 'verified', 'statuses_count', 'lang', 'status', 'contributors_enabled', 'is_translator', 'is_translation_enabled', 'profile_background_color', 'profile_background_image_url', 'profile_background_image_url_https', 'profile_background_tile', 'profile_image_url', 'profile_image_url_https', 'profile_banner_url', 'profile_link_color', 'profile_sidebar_border_color', 'profile_sidebar_fill_color', 'profile_text_color', 'profile_use_background_image', 'has_extended_profile', 'default_profile', 'default_profile_image', 'following', 'follow_request_sent', 'notifications', 'muting', 'blocking', 'blocked_by', 'translator_type'])\n"
     ]
    }
   ],
   "source": [
    "from pprint import pprint\n",
    "pprint(t[0]._json.keys())"
   ]
  },
  {
   "cell_type": "code",
   "execution_count": 50,
   "metadata": {},
   "outputs": [],
   "source": [
    "uids = df.author_id.unique().tolist()"
   ]
  },
  {
   "cell_type": "code",
   "execution_count": 51,
   "metadata": {
    "collapsed": true
   },
   "outputs": [],
   "source": [
    "from tqdm import tqdm"
   ]
  },
  {
   "cell_type": "code",
   "execution_count": null,
   "metadata": {
    "scrolled": true
   },
   "outputs": [
    {
     "name": "stderr",
     "output_type": "stream",
     "text": [
      "  0%|          | 1/9943 [00:00<59:22,  2.79it/s]"
     ]
    },
    {
     "name": "stdout",
     "output_type": "stream",
     "text": [
      "failed for user  1119932693045760001\n",
      "Not authorized.\n"
     ]
    },
    {
     "name": "stderr",
     "output_type": "stream",
     "text": [
      "  0%|          | 3/9943 [00:01<59:35,  2.78it/s]"
     ]
    },
    {
     "name": "stdout",
     "output_type": "stream",
     "text": [
      "failed for user  1160300057331228674\n",
      "[{'code': 34, 'message': 'Sorry, that page does not exist.'}]\n"
     ]
    },
    {
     "name": "stderr",
     "output_type": "stream",
     "text": [
      "  0%|          | 5/9943 [00:01<59:16,  2.79it/s]"
     ]
    },
    {
     "name": "stdout",
     "output_type": "stream",
     "text": [
      "failed for user  3327262713\n",
      "[{'code': 34, 'message': 'Sorry, that page does not exist.'}]\n"
     ]
    },
    {
     "name": "stderr",
     "output_type": "stream",
     "text": [
      "  0%|          | 8/9943 [00:02<58:59,  2.81it/s]"
     ]
    },
    {
     "name": "stdout",
     "output_type": "stream",
     "text": [
      "failed for user  1122868678406606849\n",
      "Not authorized.\n"
     ]
    },
    {
     "name": "stderr",
     "output_type": "stream",
     "text": [
      "\r",
      "  0%|          | 9/9943 [00:03<58:58,  2.81it/s]"
     ]
    },
    {
     "name": "stdout",
     "output_type": "stream",
     "text": [
      "failed for user  1152166633286307840\n",
      "Not authorized.\n"
     ]
    },
    {
     "name": "stderr",
     "output_type": "stream",
     "text": [
      "  0%|          | 11/9943 [00:03<58:49,  2.81it/s]"
     ]
    },
    {
     "name": "stdout",
     "output_type": "stream",
     "text": [
      "failed for user  1063730977107775488\n",
      "[{'code': 34, 'message': 'Sorry, that page does not exist.'}]\n"
     ]
    },
    {
     "name": "stderr",
     "output_type": "stream",
     "text": [
      "  0%|          | 13/9943 [00:04<1:05:28,  2.53it/s]"
     ]
    },
    {
     "name": "stdout",
     "output_type": "stream",
     "text": [
      "failed for user  369470392\n",
      "Not authorized.\n"
     ]
    },
    {
     "name": "stderr",
     "output_type": "stream",
     "text": [
      "  0%|          | 19/9943 [14:42<175:00:07, 63.48s/it] "
     ]
    },
    {
     "name": "stdout",
     "output_type": "stream",
     "text": [
      "failed for user  421285913\n",
      "[{'code': 34, 'message': 'Sorry, that page does not exist.'}]\n"
     ]
    },
    {
     "name": "stderr",
     "output_type": "stream",
     "text": [
      "  0%|          | 21/9943 [14:43<86:18:11, 31.31s/it] "
     ]
    },
    {
     "name": "stdout",
     "output_type": "stream",
     "text": [
      "failed for user  2493481812\n",
      "Not authorized.\n"
     ]
    },
    {
     "name": "stderr",
     "output_type": "stream",
     "text": [
      "  0%|          | 23/9943 [14:44<42:52:58, 15.56s/it]"
     ]
    },
    {
     "name": "stdout",
     "output_type": "stream",
     "text": [
      "failed for user  792324507696529408\n",
      "[{'code': 34, 'message': 'Sorry, that page does not exist.'}]\n"
     ]
    },
    {
     "name": "stderr",
     "output_type": "stream",
     "text": [
      "  0%|          | 25/9943 [14:45<21:30:30,  7.81s/it]"
     ]
    },
    {
     "name": "stdout",
     "output_type": "stream",
     "text": [
      "failed for user  3097997398\n",
      "[{'code': 34, 'message': 'Sorry, that page does not exist.'}]\n"
     ]
    },
    {
     "name": "stderr",
     "output_type": "stream",
     "text": [
      "  0%|          | 27/9943 [14:45<11:02:36,  4.01s/it]"
     ]
    },
    {
     "name": "stdout",
     "output_type": "stream",
     "text": [
      "failed for user  897166902941954049\n",
      "Not authorized.\n"
     ]
    },
    {
     "name": "stderr",
     "output_type": "stream",
     "text": [
      "  0%|          | 30/9943 [29:45<746:24:38, 271.07s/it]"
     ]
    },
    {
     "name": "stdout",
     "output_type": "stream",
     "text": [
      "failed for user  848984858957422592\n",
      "Not authorized.\n"
     ]
    },
    {
     "name": "stderr",
     "output_type": "stream",
     "text": [
      "\r",
      "  0%|          | 31/9943 [29:45<522:43:40, 189.85s/it]"
     ]
    },
    {
     "name": "stdout",
     "output_type": "stream",
     "text": [
      "failed for user  1070731563195875329\n",
      "Not authorized.\n"
     ]
    },
    {
     "name": "stderr",
     "output_type": "stream",
     "text": [
      "  0%|          | 33/9943 [29:46<256:35:03, 93.21s/it] "
     ]
    },
    {
     "name": "stdout",
     "output_type": "stream",
     "text": [
      "failed for user  1166422285332418567\n",
      "[{'code': 34, 'message': 'Sorry, that page does not exist.'}]\n"
     ]
    },
    {
     "name": "stderr",
     "output_type": "stream",
     "text": [
      "  0%|          | 35/9943 [29:46<126:14:01, 45.87s/it]"
     ]
    },
    {
     "name": "stdout",
     "output_type": "stream",
     "text": [
      "failed for user  347617317\n",
      "Not authorized.\n"
     ]
    },
    {
     "name": "stderr",
     "output_type": "stream",
     "text": [
      "\r",
      "  0%|          | 36/9943 [29:47<88:38:57, 32.21s/it] "
     ]
    },
    {
     "name": "stdout",
     "output_type": "stream",
     "text": [
      "failed for user  1554582672\n",
      "[{'code': 34, 'message': 'Sorry, that page does not exist.'}]\n"
     ]
    },
    {
     "name": "stderr",
     "output_type": "stream",
     "text": [
      "  0%|          | 38/9943 [29:47<43:55:51, 15.97s/it]"
     ]
    },
    {
     "name": "stdout",
     "output_type": "stream",
     "text": [
      "failed for user  1010353251504488449\n",
      "[{'code': 34, 'message': 'Sorry, that page does not exist.'}]\n"
     ]
    },
    {
     "name": "stderr",
     "output_type": "stream",
     "text": [
      "\r",
      "  0%|          | 39/9943 [29:48<31:02:23, 11.28s/it]"
     ]
    },
    {
     "name": "stdout",
     "output_type": "stream",
     "text": [
      "failed for user  1150475618259263490\n",
      "Not authorized.\n"
     ]
    },
    {
     "name": "stderr",
     "output_type": "stream",
     "text": [
      "\r",
      "  0%|          | 40/9943 [29:48<22:00:47,  8.00s/it]"
     ]
    },
    {
     "name": "stdout",
     "output_type": "stream",
     "text": [
      "failed for user  853353483629723649\n",
      "Not authorized.\n"
     ]
    },
    {
     "name": "stderr",
     "output_type": "stream",
     "text": [
      "  1%|          | 50/9943 [44:53<126:28:33, 46.02s/it] "
     ]
    },
    {
     "name": "stdout",
     "output_type": "stream",
     "text": [
      "failed for user  1038506624065974273\n",
      "[{'code': 34, 'message': 'Sorry, that page does not exist.'}]\n"
     ]
    },
    {
     "name": "stderr",
     "output_type": "stream",
     "text": [
      "\r",
      "  1%|          | 51/9943 [44:53<88:49:08, 32.32s/it] "
     ]
    },
    {
     "name": "stdout",
     "output_type": "stream",
     "text": [
      "failed for user  1134182635151003650\n",
      "[{'code': 34, 'message': 'Sorry, that page does not exist.'}]\n"
     ]
    },
    {
     "name": "stderr",
     "output_type": "stream",
     "text": [
      "\r",
      "  1%|          | 52/9943 [44:53<62:27:38, 22.73s/it]"
     ]
    },
    {
     "name": "stdout",
     "output_type": "stream",
     "text": [
      "failed for user  943582215107235840\n",
      "Not authorized.\n"
     ]
    },
    {
     "name": "stderr",
     "output_type": "stream",
     "text": [
      "  1%|          | 54/9943 [44:54<31:06:17, 11.32s/it]"
     ]
    },
    {
     "name": "stdout",
     "output_type": "stream",
     "text": [
      "failed for user  1046440459785195521\n",
      "[{'code': 34, 'message': 'Sorry, that page does not exist.'}]\n"
     ]
    },
    {
     "name": "stderr",
     "output_type": "stream",
     "text": [
      "  1%|          | 62/9943 [59:57<365:38:38, 133.22s/it]"
     ]
    },
    {
     "name": "stdout",
     "output_type": "stream",
     "text": [
      "failed for user  2650761662\n",
      "[{'code': 34, 'message': 'Sorry, that page does not exist.'}]\n"
     ]
    },
    {
     "name": "stderr",
     "output_type": "stream",
     "text": [
      "  1%|          | 65/9943 [59:58<126:07:31, 45.97s/it] "
     ]
    },
    {
     "name": "stdout",
     "output_type": "stream",
     "text": [
      "failed for user  991411801794469889\n",
      "[{'code': 34, 'message': 'Sorry, that page does not exist.'}]\n"
     ]
    },
    {
     "name": "stderr",
     "output_type": "stream",
     "text": [
      "  1%|          | 67/9943 [59:59<62:20:14, 22.72s/it] "
     ]
    },
    {
     "name": "stdout",
     "output_type": "stream",
     "text": [
      "failed for user  1140974872010661889\n",
      "Not authorized.\n"
     ]
    },
    {
     "name": "stderr",
     "output_type": "stream",
     "text": [
      "  1%|          | 72/9943 [1:00:01<11:24:37,  4.16s/it]"
     ]
    },
    {
     "name": "stdout",
     "output_type": "stream",
     "text": [
      "failed for user  905184061873901568\n",
      "Not authorized.\n"
     ]
    },
    {
     "name": "stderr",
     "output_type": "stream",
     "text": [
      "\r",
      "  1%|          | 73/9943 [1:00:01<8:16:36,  3.02s/it] "
     ]
    },
    {
     "name": "stdout",
     "output_type": "stream",
     "text": [
      "failed for user  1158848950297878528\n",
      "Not authorized.\n"
     ]
    },
    {
     "name": "stderr",
     "output_type": "stream",
     "text": [
      "\r",
      "  1%|          | 74/9943 [1:00:01<6:05:13,  2.22s/it]"
     ]
    },
    {
     "name": "stdout",
     "output_type": "stream",
     "text": [
      "failed for user  954456700781776896\n",
      "[{'code': 34, 'message': 'Sorry, that page does not exist.'}]\n"
     ]
    },
    {
     "name": "stderr",
     "output_type": "stream",
     "text": [
      "  1%|          | 78/9943 [1:15:02<255:49:49, 93.36s/it] "
     ]
    },
    {
     "name": "stdout",
     "output_type": "stream",
     "text": [
      "failed for user  2349201055\n",
      "Not authorized.\n"
     ]
    },
    {
     "name": "stderr",
     "output_type": "stream",
     "text": [
      "  1%|          | 89/9943 [1:15:07<6:08:48,  2.25s/it]  "
     ]
    },
    {
     "name": "stdout",
     "output_type": "stream",
     "text": [
      "failed for user  1681658846\n",
      "Not authorized.\n"
     ]
    },
    {
     "name": "stderr",
     "output_type": "stream",
     "text": [
      "\r",
      "  1%|          | 90/9943 [1:30:06<742:54:04, 271.43s/it]"
     ]
    },
    {
     "name": "stdout",
     "output_type": "stream",
     "text": [
      "failed for user  1026257558170947584\n",
      "[{'code': 34, 'message': 'Sorry, that page does not exist.'}]\n"
     ]
    },
    {
     "name": "stderr",
     "output_type": "stream",
     "text": [
      "\r",
      "  1%|          | 91/9943 [1:30:07<520:20:24, 190.14s/it]"
     ]
    },
    {
     "name": "stdout",
     "output_type": "stream",
     "text": [
      "failed for user  1167878446242041856\n",
      "Not authorized.\n"
     ]
    },
    {
     "name": "stderr",
     "output_type": "stream",
     "text": [
      "\r",
      "  1%|          | 92/9943 [1:30:07<364:29:19, 133.20s/it]"
     ]
    },
    {
     "name": "stdout",
     "output_type": "stream",
     "text": [
      "failed for user  3870167597\n",
      "[{'code': 34, 'message': 'Sorry, that page does not exist.'}]\n"
     ]
    },
    {
     "name": "stderr",
     "output_type": "stream",
     "text": [
      "  1%|          | 95/9943 [1:30:08<125:36:46, 45.92s/it] "
     ]
    },
    {
     "name": "stdout",
     "output_type": "stream",
     "text": [
      "failed for user  1151286824742129664\n",
      "Not authorized.\n"
     ]
    },
    {
     "name": "stderr",
     "output_type": "stream",
     "text": [
      "  1%|          | 103/9943 [1:30:11<8:09:22,  2.98s/it] "
     ]
    },
    {
     "name": "stdout",
     "output_type": "stream",
     "text": [
      "failed for user  929404875506667520\n",
      "Not authorized.\n"
     ]
    },
    {
     "name": "stderr",
     "output_type": "stream",
     "text": [
      "\r",
      "  1%|          | 104/9943 [1:30:11<5:59:45,  2.19s/it]"
     ]
    },
    {
     "name": "stdout",
     "output_type": "stream",
     "text": [
      "failed for user  998598091283619840\n",
      "[{'code': 34, 'message': 'Sorry, that page does not exist.'}]\n"
     ]
    },
    {
     "name": "stderr",
     "output_type": "stream",
     "text": [
      "  1%|          | 107/9943 [1:45:12<363:58:45, 133.22s/it]"
     ]
    },
    {
     "name": "stdout",
     "output_type": "stream",
     "text": [
      "failed for user  1104071353211252736\n",
      "Not authorized.\n"
     ]
    },
    {
     "name": "stderr",
     "output_type": "stream",
     "text": [
      "  1%|          | 110/9943 [1:45:13<125:32:39, 45.96s/it] "
     ]
    },
    {
     "name": "stdout",
     "output_type": "stream",
     "text": [
      "failed for user  1051960554082971651\n",
      "[{'code': 34, 'message': 'Sorry, that page does not exist.'}]\n"
     ]
    },
    {
     "name": "stderr",
     "output_type": "stream",
     "text": [
      "  1%|          | 114/9943 [1:45:15<31:00:03, 11.35s/it] "
     ]
    },
    {
     "name": "stdout",
     "output_type": "stream",
     "text": [
      "failed for user  1145609853643239425\n",
      "[{'code': 34, 'message': 'Sorry, that page does not exist.'}]\n"
     ]
    },
    {
     "name": "stderr",
     "output_type": "stream",
     "text": [
      "  1%|          | 124/9943 [2:00:18<178:33:19, 65.46s/it] "
     ]
    },
    {
     "name": "stdout",
     "output_type": "stream",
     "text": [
      "failed for user  1028141075901427712\n",
      "[{'code': 34, 'message': 'Sorry, that page does not exist.'}]\n"
     ]
    },
    {
     "name": "stderr",
     "output_type": "stream",
     "text": [
      "  1%|▏         | 127/9943 [2:00:19<61:57:51, 22.73s/it] "
     ]
    },
    {
     "name": "stdout",
     "output_type": "stream",
     "text": [
      "failed for user  980371970926800896\n",
      "Not authorized.\n"
     ]
    },
    {
     "name": "stderr",
     "output_type": "stream",
     "text": [
      "  1%|▏         | 130/9943 [2:00:21<22:00:52,  8.08s/it]"
     ]
    },
    {
     "name": "stdout",
     "output_type": "stream",
     "text": [
      "failed for user  979572476001824769\n",
      "Not authorized.\n"
     ]
    },
    {
     "name": "stderr",
     "output_type": "stream",
     "text": [
      "  1%|▏         | 132/9943 [2:00:21<11:16:44,  4.14s/it]"
     ]
    },
    {
     "name": "stdout",
     "output_type": "stream",
     "text": [
      "failed for user  2927462002\n",
      "[{'code': 34, 'message': 'Sorry, that page does not exist.'}]\n"
     ]
    },
    {
     "name": "stderr",
     "output_type": "stream",
     "text": [
      "  1%|▏         | 134/9943 [2:00:22<6:03:50,  2.23s/it] "
     ]
    },
    {
     "name": "stdout",
     "output_type": "stream",
     "text": [
      "failed for user  1013014948920877056\n",
      "Not authorized.\n"
     ]
    },
    {
     "name": "stderr",
     "output_type": "stream",
     "text": [
      "  1%|▏         | 143/9943 [2:15:24<43:29:48, 15.98s/it]  "
     ]
    },
    {
     "name": "stdout",
     "output_type": "stream",
     "text": [
      "failed for user  853363180281757696\n",
      "[{'code': 34, 'message': 'Sorry, that page does not exist.'}]\n"
     ]
    },
    {
     "name": "stderr",
     "output_type": "stream",
     "text": [
      "  1%|▏         | 145/9943 [2:15:25<21:53:38,  8.04s/it]"
     ]
    },
    {
     "name": "stdout",
     "output_type": "stream",
     "text": [
      "failed for user  1054839843442843650\n",
      "Not authorized.\n"
     ]
    },
    {
     "name": "stderr",
     "output_type": "stream",
     "text": [
      "\r",
      "  1%|▏         | 146/9943 [2:15:25<15:36:29,  5.74s/it]"
     ]
    },
    {
     "name": "stdout",
     "output_type": "stream",
     "text": [
      "failed for user  1126912730202607618\n",
      "Not authorized.\n"
     ]
    },
    {
     "name": "stderr",
     "output_type": "stream",
     "text": [
      "  1%|▏         | 148/9943 [2:15:26<8:11:00,  3.01s/it] "
     ]
    },
    {
     "name": "stdout",
     "output_type": "stream",
     "text": [
      "failed for user  1157567048177856512\n",
      "Not authorized.\n"
     ]
    },
    {
     "name": "stderr",
     "output_type": "stream",
     "text": [
      "  2%|▏         | 150/9943 [2:30:26<738:34:03, 271.50s/it]"
     ]
    },
    {
     "name": "stdout",
     "output_type": "stream",
     "text": [
      "failed for user  729748075439390720\n",
      "Not authorized.\n"
     ]
    },
    {
     "name": "stderr",
     "output_type": "stream",
     "text": [
      "  2%|▏         | 152/9943 [2:30:27<362:18:49, 133.22s/it]"
     ]
    },
    {
     "name": "stdout",
     "output_type": "stream",
     "text": [
      "failed for user  2384963790\n",
      "[{'code': 34, 'message': 'Sorry, that page does not exist.'}]\n"
     ]
    },
    {
     "name": "stderr",
     "output_type": "stream",
     "text": [
      "  2%|▏         | 159/9943 [2:30:30<30:52:14, 11.36s/it]  "
     ]
    },
    {
     "name": "stdout",
     "output_type": "stream",
     "text": [
      "failed for user  1066807382024560640\n",
      "[{'code': 34, 'message': 'Sorry, that page does not exist.'}]\n"
     ]
    },
    {
     "name": "stderr",
     "output_type": "stream",
     "text": [
      "  2%|▏         | 161/9943 [2:30:30<15:36:49,  5.75s/it]"
     ]
    },
    {
     "name": "stdout",
     "output_type": "stream",
     "text": [
      "failed for user  991074134334607361\n",
      "Not authorized.\n"
     ]
    },
    {
     "name": "stderr",
     "output_type": "stream",
     "text": [
      "  2%|▏         | 164/9943 [2:30:31<5:58:48,  2.20s/it] "
     ]
    },
    {
     "name": "stdout",
     "output_type": "stream",
     "text": [
      "failed for user  1850708641\n",
      "[{'code': 34, 'message': 'Sorry, that page does not exist.'}]\n"
     ]
    },
    {
     "name": "stderr",
     "output_type": "stream",
     "text": [
      "\r",
      "  2%|▏         | 165/9943 [2:45:31<737:09:42, 271.40s/it]"
     ]
    },
    {
     "name": "stdout",
     "output_type": "stream",
     "text": [
      "failed for user  1139152755854065665\n",
      "Not authorized.\n"
     ]
    },
    {
     "name": "stderr",
     "output_type": "stream",
     "text": [
      "  2%|▏         | 167/9943 [2:45:32<361:37:21, 133.17s/it]"
     ]
    },
    {
     "name": "stdout",
     "output_type": "stream",
     "text": [
      "failed for user  1129032922609197057\n",
      "Not authorized.\n"
     ]
    },
    {
     "name": "stderr",
     "output_type": "stream",
     "text": [
      "  2%|▏         | 181/9943 [3:00:37<515:33:12, 190.12s/it]"
     ]
    },
    {
     "name": "stdout",
     "output_type": "stream",
     "text": [
      "failed for user  2270656560\n",
      "Not authorized.\n"
     ]
    },
    {
     "name": "stderr",
     "output_type": "stream",
     "text": [
      "\r",
      "  2%|▏         | 182/9943 [3:00:37<361:08:30, 133.19s/it]"
     ]
    },
    {
     "name": "stdout",
     "output_type": "stream",
     "text": [
      "failed for user  1163369440752406528\n",
      "[{'code': 34, 'message': 'Sorry, that page does not exist.'}]\n"
     ]
    },
    {
     "name": "stderr",
     "output_type": "stream",
     "text": [
      "  2%|▏         | 184/9943 [3:00:38<177:30:48, 65.48s/it] "
     ]
    },
    {
     "name": "stdout",
     "output_type": "stream",
     "text": [
      "failed for user  523544611\n",
      "Not authorized.\n"
     ]
    },
    {
     "name": "stderr",
     "output_type": "stream",
     "text": [
      "  2%|▏         | 188/9943 [3:00:39<43:19:58, 15.99s/it] "
     ]
    },
    {
     "name": "stdout",
     "output_type": "stream",
     "text": [
      "failed for user  1167969309571919872\n",
      "Not authorized.\n"
     ]
    },
    {
     "name": "stderr",
     "output_type": "stream",
     "text": [
      "  2%|▏         | 192/9943 [3:00:41<11:07:28,  4.11s/it]"
     ]
    },
    {
     "name": "stdout",
     "output_type": "stream",
     "text": [
      "failed for user  462782738\n",
      "Not authorized.\n"
     ]
    },
    {
     "name": "stderr",
     "output_type": "stream",
     "text": [
      "  2%|▏         | 195/9943 [3:15:43<736:03:25, 271.83s/it]"
     ]
    },
    {
     "name": "stdout",
     "output_type": "stream",
     "text": [
      "failed for user  1079224760964431872\n",
      "Not authorized.\n"
     ]
    },
    {
     "name": "stderr",
     "output_type": "stream",
     "text": [
      "\r",
      "  2%|▏         | 196/9943 [3:15:43<515:28:28, 190.39s/it]"
     ]
    },
    {
     "name": "stdout",
     "output_type": "stream",
     "text": [
      "failed for user  1155156094320349189\n",
      "Not authorized.\n"
     ]
    },
    {
     "name": "stderr",
     "output_type": "stream",
     "text": [
      "\r",
      "  2%|▏         | 197/9943 [3:15:43<361:04:39, 133.38s/it]"
     ]
    },
    {
     "name": "stdout",
     "output_type": "stream",
     "text": [
      "failed for user  252718873\n",
      "Not authorized.\n"
     ]
    },
    {
     "name": "stderr",
     "output_type": "stream",
     "text": [
      "  2%|▏         | 202/9943 [3:15:45<61:30:11, 22.73s/it]  "
     ]
    },
    {
     "name": "stdout",
     "output_type": "stream",
     "text": [
      "failed for user  928370071709372417\n",
      "Not authorized.\n"
     ]
    },
    {
     "name": "stderr",
     "output_type": "stream",
     "text": [
      "  2%|▏         | 204/9943 [3:15:46<30:36:47, 11.32s/it]"
     ]
    },
    {
     "name": "stdout",
     "output_type": "stream",
     "text": [
      "failed for user  1106002810498412545\n",
      "Not authorized.\n"
     ]
    },
    {
     "name": "stderr",
     "output_type": "stream",
     "text": [
      "  2%|▏         | 208/9943 [3:15:47<8:07:25,  3.00s/it] "
     ]
    },
    {
     "name": "stdout",
     "output_type": "stream",
     "text": [
      "failed for user  1166428127712677888\n",
      "Not authorized.\n"
     ]
    },
    {
     "name": "stderr",
     "output_type": "stream",
     "text": [
      "  2%|▏         | 210/9943 [3:15:48<4:28:31,  1.66s/it]"
     ]
    },
    {
     "name": "stdout",
     "output_type": "stream",
     "text": [
      "failed for user  828549194\n",
      "[{'code': 34, 'message': 'Sorry, that page does not exist.'}]\n"
     ]
    },
    {
     "name": "stderr",
     "output_type": "stream",
     "text": [
      "\r",
      "  2%|▏         | 211/9943 [3:15:48<3:25:08,  1.26s/it]"
     ]
    },
    {
     "name": "stdout",
     "output_type": "stream",
     "text": [
      "failed for user  1057194459849519110\n",
      "Not authorized.\n"
     ]
    },
    {
     "name": "stderr",
     "output_type": "stream",
     "text": [
      "\r",
      "  2%|▏         | 212/9943 [3:30:48<731:50:47, 270.75s/it]"
     ]
    },
    {
     "name": "stdout",
     "output_type": "stream",
     "text": [
      "failed for user  822801357199593472\n",
      "Not authorized.\n"
     ]
    },
    {
     "name": "stderr",
     "output_type": "stream",
     "text": [
      "  2%|▏         | 217/9943 [3:30:50<123:46:59, 45.82s/it] "
     ]
    },
    {
     "name": "stdout",
     "output_type": "stream",
     "text": [
      "failed for user  327586462\n",
      "[{'code': 34, 'message': 'Sorry, that page does not exist.'}]\n"
     ]
    },
    {
     "name": "stderr",
     "output_type": "stream",
     "text": [
      "\r",
      "  2%|▏         | 218/9943 [3:30:50<86:55:29, 32.18s/it] "
     ]
    },
    {
     "name": "stdout",
     "output_type": "stream",
     "text": [
      "failed for user  986892873676283904\n",
      "Not authorized.\n"
     ]
    },
    {
     "name": "stderr",
     "output_type": "stream",
     "text": [
      "  2%|▏         | 220/9943 [3:30:51<43:04:03, 15.95s/it]"
     ]
    },
    {
     "name": "stdout",
     "output_type": "stream",
     "text": [
      "failed for user  1120203423859789824\n",
      "Not authorized.\n"
     ]
    },
    {
     "name": "stderr",
     "output_type": "stream",
     "text": [
      "\r",
      "  2%|▏         | 221/9943 [3:30:51<30:25:35, 11.27s/it]"
     ]
    },
    {
     "name": "stdout",
     "output_type": "stream",
     "text": [
      "failed for user  1156856891584188418\n",
      "Not authorized.\n"
     ]
    },
    {
     "name": "stderr",
     "output_type": "stream",
     "text": [
      "  2%|▏         | 224/9943 [3:30:53<11:05:30,  4.11s/it]"
     ]
    },
    {
     "name": "stdout",
     "output_type": "stream",
     "text": [
      "failed for user  1448517475\n",
      "[{'code': 34, 'message': 'Sorry, that page does not exist.'}]\n"
     ]
    },
    {
     "name": "stderr",
     "output_type": "stream",
     "text": [
      "\r",
      "  2%|▏         | 225/9943 [3:30:53<8:02:43,  2.98s/it] "
     ]
    },
    {
     "name": "stdout",
     "output_type": "stream",
     "text": [
      "failed for user  969331999675740160\n",
      "Not authorized.\n"
     ]
    },
    {
     "name": "stderr",
     "output_type": "stream",
     "text": [
      "  2%|▏         | 228/9943 [3:45:53<513:04:05, 190.12s/it]"
     ]
    },
    {
     "name": "stdout",
     "output_type": "stream",
     "text": [
      "failed for user  1167345102777409536\n",
      "[{'code': 34, 'message': 'Sorry, that page does not exist.'}]\n"
     ]
    },
    {
     "name": "stderr",
     "output_type": "stream",
     "text": [
      "  2%|▏         | 231/9943 [3:45:55<176:37:17, 65.47s/it] "
     ]
    },
    {
     "name": "stdout",
     "output_type": "stream",
     "text": [
      "failed for user  1029361515831418881\n",
      "Not authorized.\n"
     ]
    },
    {
     "name": "stderr",
     "output_type": "stream",
     "text": [
      "  2%|▏         | 234/9943 [3:45:56<61:11:16, 22.69s/it] "
     ]
    },
    {
     "name": "stdout",
     "output_type": "stream",
     "text": [
      "failed for user  895287642778214401\n",
      "[{'code': 34, 'message': 'Sorry, that page does not exist.'}]\n"
     ]
    },
    {
     "name": "stderr",
     "output_type": "stream",
     "text": [
      "\r",
      "  2%|▏         | 235/9943 [3:45:56<43:06:29, 15.99s/it]"
     ]
    },
    {
     "name": "stdout",
     "output_type": "stream",
     "text": [
      "failed for user  1095657208090714114\n",
      "[{'code': 34, 'message': 'Sorry, that page does not exist.'}]\n"
     ]
    },
    {
     "name": "stderr",
     "output_type": "stream",
     "text": [
      "\r",
      "  2%|▏         | 236/9943 [3:45:56<30:27:35, 11.30s/it]"
     ]
    },
    {
     "name": "stdout",
     "output_type": "stream",
     "text": [
      "failed for user  1154294398949253120\n",
      "Not authorized.\n"
     ]
    },
    {
     "name": "stderr",
     "output_type": "stream",
     "text": [
      "  2%|▏         | 245/9943 [4:00:59<251:27:06, 93.34s/it] "
     ]
    },
    {
     "name": "stdout",
     "output_type": "stream",
     "text": [
      "failed for user  1010584475036798978\n",
      "Not authorized.\n"
     ]
    },
    {
     "name": "stderr",
     "output_type": "stream",
     "text": [
      "  3%|▎         | 249/9943 [4:01:01<61:13:37, 22.74s/it] "
     ]
    },
    {
     "name": "stdout",
     "output_type": "stream",
     "text": [
      "failed for user  2281359079\n",
      "Not authorized.\n"
     ]
    },
    {
     "name": "stderr",
     "output_type": "stream",
     "text": [
      "  3%|▎         | 253/9943 [4:01:02<15:27:30,  5.74s/it]"
     ]
    },
    {
     "name": "stdout",
     "output_type": "stream",
     "text": [
      "failed for user  1162704239656873989\n",
      "[{'code': 34, 'message': 'Sorry, that page does not exist.'}]\n"
     ]
    },
    {
     "name": "stderr",
     "output_type": "stream",
     "text": [
      "  3%|▎         | 256/9943 [4:01:03<5:55:45,  2.20s/it] "
     ]
    },
    {
     "name": "stdout",
     "output_type": "stream",
     "text": [
      "failed for user  459430573\n",
      "Not authorized.\n"
     ]
    },
    {
     "name": "stderr",
     "output_type": "stream",
     "text": [
      "  3%|▎         | 260/9943 [4:16:04<251:01:09, 93.33s/it] "
     ]
    },
    {
     "name": "stdout",
     "output_type": "stream",
     "text": [
      "failed for user  1143631757037756416\n",
      "Not authorized.\n"
     ]
    },
    {
     "name": "stderr",
     "output_type": "stream",
     "text": [
      "  3%|▎         | 267/9943 [4:16:07<21:36:00,  8.04s/it] "
     ]
    },
    {
     "name": "stdout",
     "output_type": "stream",
     "text": [
      "failed for user  1020351650035269635\n",
      "[{'code': 34, 'message': 'Sorry, that page does not exist.'}]\n"
     ]
    },
    {
     "name": "stderr",
     "output_type": "stream",
     "text": [
      "  3%|▎         | 270/9943 [4:16:08<8:08:49,  3.03s/it] "
     ]
    },
    {
     "name": "stdout",
     "output_type": "stream",
     "text": [
      "failed for user  112295791\n",
      "Not authorized.\n"
     ]
    },
    {
     "name": "stderr",
     "output_type": "stream",
     "text": [
      "  3%|▎         | 274/9943 [4:31:09<357:50:56, 133.24s/it]"
     ]
    },
    {
     "name": "stdout",
     "output_type": "stream",
     "text": [
      "failed for user  1077915617137754112\n",
      "[{'code': 34, 'message': 'Sorry, that page does not exist.'}]\n"
     ]
    },
    {
     "name": "stderr",
     "output_type": "stream",
     "text": [
      "  3%|▎         | 281/9943 [4:31:11<30:20:06, 11.30s/it]  "
     ]
    },
    {
     "name": "stdout",
     "output_type": "stream",
     "text": [
      "failed for user  1583299902\n",
      "[{'code': 34, 'message': 'Sorry, that page does not exist.'}]\n"
     ]
    },
    {
     "name": "stderr",
     "output_type": "stream",
     "text": [
      "  3%|▎         | 290/9943 [4:46:14<250:18:13, 93.35s/it] "
     ]
    },
    {
     "name": "stdout",
     "output_type": "stream",
     "text": [
      "failed for user  410684147\n",
      "Not authorized.\n"
     ]
    },
    {
     "name": "stderr",
     "output_type": "stream",
     "text": [
      "  3%|▎         | 299/9943 [4:46:18<11:01:38,  4.12s/it] "
     ]
    },
    {
     "name": "stdout",
     "output_type": "stream",
     "text": [
      "failed for user  909699686117859328\n",
      "[{'code': 34, 'message': 'Sorry, that page does not exist.'}]\n"
     ]
    },
    {
     "name": "stderr",
     "output_type": "stream",
     "text": [
      "  3%|▎         | 304/9943 [5:01:18<356:32:37, 133.16s/it]"
     ]
    },
    {
     "name": "stdout",
     "output_type": "stream",
     "text": [
      "failed for user  1158415865257312256\n",
      "Not authorized.\n"
     ]
    },
    {
     "name": "stderr",
     "output_type": "stream",
     "text": [
      "  3%|▎         | 312/9943 [5:01:22<21:35:34,  8.07s/it]  "
     ]
    },
    {
     "name": "stdout",
     "output_type": "stream",
     "text": [
      "failed for user  1169158260\n",
      "Not authorized.\n"
     ]
    },
    {
     "name": "stderr",
     "output_type": "stream",
     "text": [
      "  3%|▎         | 316/9943 [5:01:24<6:05:00,  2.27s/it] "
     ]
    },
    {
     "name": "stdout",
     "output_type": "stream",
     "text": [
      "failed for user  1050078286687232000\n",
      "[{'code': 34, 'message': 'Sorry, that page does not exist.'}]\n"
     ]
    },
    {
     "name": "stderr",
     "output_type": "stream",
     "text": [
      "  3%|▎         | 320/9943 [5:16:25<249:33:16, 93.36s/it] "
     ]
    },
    {
     "name": "stdout",
     "output_type": "stream",
     "text": [
      "failed for user  1096183575383281668\n",
      "Not authorized.\n"
     ]
    },
    {
     "name": "stderr",
     "output_type": "stream",
     "text": [
      "  3%|▎         | 327/9943 [5:16:27<21:24:47,  8.02s/it] "
     ]
    },
    {
     "name": "stdout",
     "output_type": "stream",
     "text": [
      "failed for user  1592641423\n",
      "Not authorized.\n"
     ]
    },
    {
     "name": "stderr",
     "output_type": "stream",
     "text": [
      "  3%|▎         | 337/9943 [5:31:31<122:36:07, 45.95s/it] "
     ]
    },
    {
     "name": "stdout",
     "output_type": "stream",
     "text": [
      "failed for user  1142784461836292096\n",
      "Not authorized.\n"
     ]
    },
    {
     "name": "stderr",
     "output_type": "stream",
     "text": [
      "  3%|▎         | 339/9943 [5:31:31<60:35:45, 22.71s/it] "
     ]
    },
    {
     "name": "stdout",
     "output_type": "stream",
     "text": [
      "failed for user  866144287\n",
      "Not authorized.\n"
     ]
    },
    {
     "name": "stderr",
     "output_type": "stream",
     "text": [
      "  3%|▎         | 341/9943 [5:31:32<30:10:08, 11.31s/it]"
     ]
    },
    {
     "name": "stdout",
     "output_type": "stream",
     "text": [
      "failed for user  2737315838\n",
      "[{'code': 34, 'message': 'Sorry, that page does not exist.'}]\n"
     ]
    },
    {
     "name": "stderr",
     "output_type": "stream",
     "text": [
      "  3%|▎         | 343/9943 [5:31:33<15:15:34,  5.72s/it]"
     ]
    },
    {
     "name": "stdout",
     "output_type": "stream",
     "text": [
      "failed for user  845012770202509314\n",
      "Not authorized.\n"
     ]
    },
    {
     "name": "stderr",
     "output_type": "stream",
     "text": [
      "  3%|▎         | 346/9943 [5:31:34<5:55:12,  2.22s/it] "
     ]
    },
    {
     "name": "stdout",
     "output_type": "stream",
     "text": [
      "failed for user  1167849217517391873\n",
      "Not authorized.\n"
     ]
    },
    {
     "name": "stderr",
     "output_type": "stream",
     "text": [
      "  4%|▎         | 353/9943 [5:46:36<86:04:13, 32.31s/it]  "
     ]
    },
    {
     "name": "stdout",
     "output_type": "stream",
     "text": [
      "failed for user  778850629\n",
      "[{'code': 34, 'message': 'Sorry, that page does not exist.'}]\n"
     ]
    },
    {
     "name": "stderr",
     "output_type": "stream",
     "text": [
      "  4%|▎         | 357/9943 [5:46:38<21:26:17,  8.05s/it]"
     ]
    },
    {
     "name": "stdout",
     "output_type": "stream",
     "text": [
      "failed for user  1109062668080611328\n",
      "[{'code': 34, 'message': 'Sorry, that page does not exist.'}]\n"
     ]
    },
    {
     "name": "stderr",
     "output_type": "stream",
     "text": [
      "  4%|▎         | 359/9943 [5:46:39<10:59:02,  4.13s/it]"
     ]
    },
    {
     "name": "stdout",
     "output_type": "stream",
     "text": [
      "failed for user  1044217262889213952\n",
      "[{'code': 34, 'message': 'Sorry, that page does not exist.'}]\n"
     ]
    },
    {
     "name": "stderr",
     "output_type": "stream",
     "text": [
      "  4%|▎         | 365/9943 [6:01:40<248:22:07, 93.35s/it] "
     ]
    },
    {
     "name": "stdout",
     "output_type": "stream",
     "text": [
      "failed for user  414771579\n",
      "Not authorized.\n"
     ]
    },
    {
     "name": "stderr",
     "output_type": "stream",
     "text": [
      "\r",
      "  4%|▎         | 366/9943 [6:01:41<174:07:08, 65.45s/it]"
     ]
    },
    {
     "name": "stdout",
     "output_type": "stream",
     "text": [
      "failed for user  917101185814925312\n",
      "[{'code': 34, 'message': 'Sorry, that page does not exist.'}]\n"
     ]
    },
    {
     "name": "stderr",
     "output_type": "stream",
     "text": [
      "  4%|▎         | 368/9943 [6:01:41<85:46:45, 32.25s/it] "
     ]
    },
    {
     "name": "stdout",
     "output_type": "stream",
     "text": [
      "failed for user  1066078587646816256\n",
      "Not authorized.\n"
     ]
    },
    {
     "name": "stderr",
     "output_type": "stream",
     "text": [
      "  4%|▍         | 374/9943 [6:01:44<11:08:45,  4.19s/it]"
     ]
    },
    {
     "name": "stdout",
     "output_type": "stream",
     "text": [
      "failed for user  159781730\n",
      "Not authorized.\n"
     ]
    },
    {
     "name": "stderr",
     "output_type": "stream",
     "text": [
      "  4%|▍         | 379/9943 [6:16:45<353:51:15, 133.19s/it]"
     ]
    },
    {
     "name": "stdout",
     "output_type": "stream",
     "text": [
      "failed for user  1164779396030291969\n",
      "Not authorized.\n"
     ]
    },
    {
     "name": "stderr",
     "output_type": "stream",
     "text": [
      "  4%|▍         | 381/9943 [6:16:46<173:49:49, 65.45s/it] "
     ]
    },
    {
     "name": "stdout",
     "output_type": "stream",
     "text": [
      "failed for user  1097419645156507649\n",
      "[{'code': 34, 'message': 'Sorry, that page does not exist.'}]\n"
     ]
    },
    {
     "name": "stderr",
     "output_type": "stream",
     "text": [
      "\r",
      "  4%|▍         | 382/9943 [6:16:46<121:56:57, 45.92s/it]"
     ]
    },
    {
     "name": "stdout",
     "output_type": "stream",
     "text": [
      "failed for user  892824089156571136\n",
      "[{'code': 34, 'message': 'Sorry, that page does not exist.'}]\n"
     ]
    },
    {
     "name": "stderr",
     "output_type": "stream",
     "text": [
      "  4%|▍         | 388/9943 [6:16:49<15:11:44,  5.73s/it] "
     ]
    },
    {
     "name": "stdout",
     "output_type": "stream",
     "text": [
      "failed for user  310564806\n",
      "Not authorized.\n"
     ]
    },
    {
     "name": "stderr",
     "output_type": "stream",
     "text": [
      "\r",
      "  4%|▍         | 389/9943 [6:16:49<10:54:54,  4.11s/it]"
     ]
    },
    {
     "name": "stdout",
     "output_type": "stream",
     "text": [
      "failed for user  621387517\n",
      "[{'code': 34, 'message': 'Sorry, that page does not exist.'}]\n"
     ]
    },
    {
     "name": "stderr",
     "output_type": "stream",
     "text": [
      "  4%|▍         | 391/9943 [6:16:50<5:55:26,  2.23s/it] "
     ]
    },
    {
     "name": "stdout",
     "output_type": "stream",
     "text": [
      "failed for user  1072854735672303619\n",
      "[{'code': 34, 'message': 'Sorry, that page does not exist.'}]\n"
     ]
    },
    {
     "name": "stderr",
     "output_type": "stream",
     "text": [
      "  4%|▍         | 393/9943 [6:31:51<504:59:57, 190.37s/it]"
     ]
    },
    {
     "name": "stdout",
     "output_type": "stream",
     "text": [
      "failed for user  1161260839795601408\n",
      "[{'code': 34, 'message': 'Sorry, that page does not exist.'}]\n"
     ]
    },
    {
     "name": "stderr",
     "output_type": "stream",
     "text": [
      "\r",
      "  4%|▍         | 394/9943 [6:31:51<353:44:26, 133.36s/it]"
     ]
    },
    {
     "name": "stdout",
     "output_type": "stream",
     "text": [
      "failed for user  1166360625733353474\n",
      "[{'code': 34, 'message': 'Sorry, that page does not exist.'}]\n"
     ]
    },
    {
     "name": "stderr",
     "output_type": "stream",
     "text": [
      "  4%|▍         | 396/9943 [6:31:52<173:46:26, 65.53s/it] "
     ]
    },
    {
     "name": "stdout",
     "output_type": "stream",
     "text": [
      "failed for user  1052610906692247552\n",
      "[{'code': 34, 'message': 'Sorry, that page does not exist.'}]\n"
     ]
    },
    {
     "name": "stderr",
     "output_type": "stream",
     "text": [
      "  4%|▍         | 401/9943 [6:31:54<29:59:23, 11.31s/it] "
     ]
    },
    {
     "name": "stdout",
     "output_type": "stream",
     "text": [
      "failed for user  701319977241022465\n",
      "[{'code': 34, 'message': 'Sorry, that page does not exist.'}]\n"
     ]
    },
    {
     "name": "stderr",
     "output_type": "stream",
     "text": [
      "  4%|▍         | 403/9943 [6:31:55<15:10:12,  5.72s/it]"
     ]
    },
    {
     "name": "stdout",
     "output_type": "stream",
     "text": [
      "failed for user  3355017370\n",
      "[{'code': 34, 'message': 'Sorry, that page does not exist.'}]\n"
     ]
    },
    {
     "name": "stderr",
     "output_type": "stream",
     "text": [
      "\r",
      "  4%|▍         | 404/9943 [6:31:55<10:53:42,  4.11s/it]"
     ]
    },
    {
     "name": "stdout",
     "output_type": "stream",
     "text": [
      "failed for user  1153268917294514177\n",
      "Not authorized.\n"
     ]
    },
    {
     "name": "stderr",
     "output_type": "stream",
     "text": [
      "  4%|▍         | 409/9943 [6:46:57<353:11:41, 133.36s/it]"
     ]
    },
    {
     "name": "stdout",
     "output_type": "stream",
     "text": [
      "failed for user  1165003650248450050\n",
      "[{'code': 34, 'message': 'Sorry, that page does not exist.'}]\n"
     ]
    },
    {
     "name": "stderr",
     "output_type": "stream",
     "text": [
      "  4%|▍         | 412/9943 [6:46:58<121:43:19, 45.98s/it] "
     ]
    },
    {
     "name": "stdout",
     "output_type": "stream",
     "text": [
      "failed for user  1484261166\n",
      "Not authorized.\n"
     ]
    },
    {
     "name": "stderr",
     "output_type": "stream",
     "text": [
      "  4%|▍         | 414/9943 [6:46:59<60:06:21, 22.71s/it] "
     ]
    },
    {
     "name": "stdout",
     "output_type": "stream",
     "text": [
      "failed for user  1164693465055354880\n",
      "[{'code': 34, 'message': 'Sorry, that page does not exist.'}]\n"
     ]
    },
    {
     "name": "stderr",
     "output_type": "stream",
     "text": [
      "\r",
      "  4%|▍         | 415/9943 [6:46:59<42:21:04, 16.00s/it]"
     ]
    },
    {
     "name": "stdout",
     "output_type": "stream",
     "text": [
      "failed for user  757174017635778560\n",
      "[{'code': 34, 'message': 'Sorry, that page does not exist.'}]\n"
     ]
    },
    {
     "name": "stderr",
     "output_type": "stream",
     "text": [
      "  4%|▍         | 419/9943 [6:47:01<10:52:26,  4.11s/it]"
     ]
    },
    {
     "name": "stdout",
     "output_type": "stream",
     "text": [
      "failed for user  132569598\n",
      "Not authorized.\n"
     ]
    },
    {
     "name": "stderr",
     "output_type": "stream",
     "text": [
      "  4%|▍         | 423/9943 [7:02:03<503:34:56, 190.43s/it]"
     ]
    },
    {
     "name": "stdout",
     "output_type": "stream",
     "text": [
      "failed for user  793387240487424000\n",
      "[{'code': 34, 'message': 'Sorry, that page does not exist.'}]\n"
     ]
    },
    {
     "name": "stderr",
     "output_type": "stream",
     "text": [
      "  4%|▍         | 440/9943 [7:17:08<246:13:34, 93.28s/it] "
     ]
    },
    {
     "name": "stdout",
     "output_type": "stream",
     "text": [
      "failed for user  4105816708\n",
      "Not authorized.\n"
     ]
    },
    {
     "name": "stderr",
     "output_type": "stream",
     "text": [
      "\r",
      "  4%|▍         | 441/9943 [7:17:09<172:37:07, 65.40s/it]"
     ]
    },
    {
     "name": "stdout",
     "output_type": "stream",
     "text": [
      "failed for user  1090979418682609665\n",
      "Not authorized.\n"
     ]
    },
    {
     "name": "stderr",
     "output_type": "stream",
     "text": [
      "  4%|▍         | 445/9943 [7:17:10<42:12:47, 16.00s/it] "
     ]
    },
    {
     "name": "stdout",
     "output_type": "stream",
     "text": [
      "failed for user  1168019730420158464\n",
      "[{'code': 34, 'message': 'Sorry, that page does not exist.'}]\n"
     ]
    },
    {
     "name": "stderr",
     "output_type": "stream",
     "text": [
      "  5%|▍         | 449/9943 [7:17:12<10:50:42,  4.11s/it]"
     ]
    },
    {
     "name": "stdout",
     "output_type": "stream",
     "text": [
      "failed for user  1035079753\n",
      "Not authorized.\n"
     ]
    },
    {
     "name": "stderr",
     "output_type": "stream",
     "text": [
      "  5%|▍         | 451/9943 [7:17:13<5:53:23,  2.23s/it] "
     ]
    },
    {
     "name": "stdout",
     "output_type": "stream",
     "text": [
      "failed for user  2151832908\n",
      "[{'code': 34, 'message': 'Sorry, that page does not exist.'}]\n"
     ]
    },
    {
     "name": "stderr",
     "output_type": "stream",
     "text": [
      "  5%|▍         | 453/9943 [7:32:13<501:19:58, 190.18s/it]"
     ]
    },
    {
     "name": "stdout",
     "output_type": "stream",
     "text": [
      "failed for user  1146034143270264832\n",
      "Not authorized.\n"
     ]
    },
    {
     "name": "stderr",
     "output_type": "stream",
     "text": [
      "\r",
      "  5%|▍         | 454/9943 [7:32:13<351:10:11, 133.23s/it]"
     ]
    },
    {
     "name": "stdout",
     "output_type": "stream",
     "text": [
      "failed for user  749008510688649216\n",
      "Not authorized.\n"
     ]
    },
    {
     "name": "stderr",
     "output_type": "stream",
     "text": [
      "\r",
      "  5%|▍         | 455/9943 [7:32:14<246:04:11, 93.37s/it] "
     ]
    },
    {
     "name": "stdout",
     "output_type": "stream",
     "text": [
      "failed for user  896072747138285568\n",
      "[{'code': 34, 'message': 'Sorry, that page does not exist.'}]\n"
     ]
    },
    {
     "name": "stderr",
     "output_type": "stream",
     "text": [
      "\r",
      "  5%|▍         | 456/9943 [7:32:14<172:30:22, 65.46s/it]"
     ]
    },
    {
     "name": "stdout",
     "output_type": "stream",
     "text": [
      "failed for user  1063853495378419714\n",
      "Not authorized.\n"
     ]
    },
    {
     "name": "stderr",
     "output_type": "stream",
     "text": [
      "  5%|▍         | 459/9943 [7:32:15<59:47:49, 22.70s/it] "
     ]
    },
    {
     "name": "stdout",
     "output_type": "stream",
     "text": [
      "failed for user  1075395909775712257\n",
      "Not authorized.\n"
     ]
    },
    {
     "name": "stderr",
     "output_type": "stream",
     "text": [
      "\r",
      "  5%|▍         | 460/9943 [7:32:15<42:07:52, 15.99s/it]"
     ]
    },
    {
     "name": "stdout",
     "output_type": "stream",
     "text": [
      "failed for user  1076164978158325761\n",
      "Not authorized.\n"
     ]
    },
    {
     "name": "stderr",
     "output_type": "stream",
     "text": [
      "  5%|▍         | 478/9943 [7:47:21<15:09:39,  5.77s/it]  "
     ]
    },
    {
     "name": "stdout",
     "output_type": "stream",
     "text": [
      "failed for user  4838589401\n",
      "Not authorized.\n"
     ]
    },
    {
     "name": "stderr",
     "output_type": "stream",
     "text": [
      "  5%|▍         | 489/9943 [8:02:25<59:35:52, 22.69s/it]  "
     ]
    },
    {
     "name": "stdout",
     "output_type": "stream",
     "text": [
      "failed for user  755745061841858560\n",
      "Not authorized.\n"
     ]
    },
    {
     "name": "stderr",
     "output_type": "stream",
     "text": [
      "  5%|▌         | 498/9943 [8:17:27<498:18:09, 189.93s/it]"
     ]
    },
    {
     "name": "stdout",
     "output_type": "stream",
     "text": [
      "failed for user  2309922296\n",
      "Not authorized.\n"
     ]
    },
    {
     "name": "stderr",
     "output_type": "stream",
     "text": [
      "  5%|▌         | 500/9943 [8:17:28<244:42:14, 93.29s/it] "
     ]
    },
    {
     "name": "stdout",
     "output_type": "stream",
     "text": [
      "failed for user  886636509423710208\n",
      "Not authorized.\n"
     ]
    },
    {
     "name": "stderr",
     "output_type": "stream",
     "text": [
      "  5%|▌         | 502/9943 [8:17:29<120:24:18, 45.91s/it]"
     ]
    },
    {
     "name": "stdout",
     "output_type": "stream",
     "text": [
      "failed for user  2802476690\n",
      "[{'code': 34, 'message': 'Sorry, that page does not exist.'}]\n"
     ]
    },
    {
     "name": "stderr",
     "output_type": "stream",
     "text": [
      "  5%|▌         | 505/9943 [8:17:30<41:53:40, 15.98s/it] "
     ]
    },
    {
     "name": "stdout",
     "output_type": "stream",
     "text": [
      "failed for user  1148579288079392769\n",
      "Not authorized.\n"
     ]
    },
    {
     "name": "stderr",
     "output_type": "stream",
     "text": [
      "  5%|▌         | 508/9943 [8:17:31<14:58:20,  5.71s/it]"
     ]
    },
    {
     "name": "stdout",
     "output_type": "stream",
     "text": [
      "failed for user  2383396185\n",
      "Not authorized.\n"
     ]
    },
    {
     "name": "stderr",
     "output_type": "stream",
     "text": [
      "  5%|▌         | 513/9943 [8:32:32<498:04:56, 190.15s/it]"
     ]
    },
    {
     "name": "stdout",
     "output_type": "stream",
     "text": [
      "failed for user  1071545109836120069\n",
      "[{'code': 34, 'message': 'Sorry, that page does not exist.'}]\n"
     ]
    },
    {
     "name": "stderr",
     "output_type": "stream",
     "text": [
      "\r",
      "  5%|▌         | 514/9943 [8:32:32<348:53:46, 133.21s/it]"
     ]
    },
    {
     "name": "stdout",
     "output_type": "stream",
     "text": [
      "failed for user  3127109427\n",
      "[{'code': 34, 'message': 'Sorry, that page does not exist.'}]\n"
     ]
    },
    {
     "name": "stderr",
     "output_type": "stream",
     "text": [
      "  5%|▌         | 521/9943 [8:32:35<29:37:11, 11.32s/it]  "
     ]
    },
    {
     "name": "stdout",
     "output_type": "stream",
     "text": [
      "failed for user  1158933713004179456\n",
      "Not authorized.\n"
     ]
    },
    {
     "name": "stderr",
     "output_type": "stream",
     "text": [
      "  5%|▌         | 525/9943 [8:32:37<7:52:55,  3.01s/it] "
     ]
    },
    {
     "name": "stdout",
     "output_type": "stream",
     "text": [
      "failed for user  855555198537928708\n",
      "[{'code': 34, 'message': 'Sorry, that page does not exist.'}]\n"
     ]
    },
    {
     "name": "stderr",
     "output_type": "stream",
     "text": [
      "\r",
      "  5%|▌         | 526/9943 [8:32:37<5:47:46,  2.22s/it]"
     ]
    }
   ],
   "source": [
    "import pickle\n",
    "for uid in tqdm(uids):\n",
    "    with open(os.path.join(TURKEY_DIR, 'follower_info', str(uid)+'.txt'), 'wb') as f:\n",
    "        try:\n",
    "            pickle.dump(api.followers_ids(user_id=str(uid)), f)\n",
    "        except Exception as e:\n",
    "            print('failed for user ', uid)\n",
    "            print(e)"
   ]
  },
  {
   "cell_type": "code",
   "execution_count": 13,
   "metadata": {},
   "outputs": [
    {
     "name": "stdout",
     "output_type": "stream",
     "text": [
      "Fetching package metadata ...........\n",
      "\n",
      "InvalidSpecError: Invalid spec: =2.7\n",
      "\n"
     ]
    }
   ],
   "source": [
    "import sys\n",
    "!conda install --yes --prefix {sys.prefix} -c conda-forge tweepy"
   ]
  },
  {
   "cell_type": "code",
   "execution_count": 14,
   "metadata": {},
   "outputs": [
    {
     "name": "stdout",
     "output_type": "stream",
     "text": [
      "Collecting tweepy\n",
      "  Downloading tweepy-3.10.0-py2.py3-none-any.whl (30 kB)\n",
      "Collecting requests-oauthlib>=0.7.0\n",
      "  Downloading requests_oauthlib-1.3.0-py2.py3-none-any.whl (23 kB)\n",
      "Requirement already satisfied: requests[socks]>=2.11.1 in /home/jschless/.conda/envs/gt/lib/python3.8/site-packages (from tweepy) (2.24.0)\n",
      "Requirement already satisfied: six>=1.10.0 in /home/jschless/.conda/envs/gt/lib/python3.8/site-packages (from tweepy) (1.15.0)\n",
      "Collecting oauthlib>=3.0.0\n",
      "  Downloading oauthlib-3.1.0-py2.py3-none-any.whl (147 kB)\n",
      "\u001b[K     |████████████████████████████████| 147 kB 9.6 MB/s eta 0:00:01\n",
      "\u001b[?25hRequirement already satisfied: certifi>=2017.4.17 in /home/jschless/.conda/envs/gt/lib/python3.8/site-packages (from requests[socks]>=2.11.1->tweepy) (2020.6.20)\n",
      "Requirement already satisfied: idna<3,>=2.5 in /home/jschless/.conda/envs/gt/lib/python3.8/site-packages (from requests[socks]>=2.11.1->tweepy) (2.10)\n",
      "Requirement already satisfied: chardet<4,>=3.0.2 in /home/jschless/.conda/envs/gt/lib/python3.8/site-packages (from requests[socks]>=2.11.1->tweepy) (3.0.4)\n",
      "Requirement already satisfied: urllib3!=1.25.0,!=1.25.1,<1.26,>=1.21.1 in /home/jschless/.conda/envs/gt/lib/python3.8/site-packages (from requests[socks]>=2.11.1->tweepy) (1.25.10)\n",
      "Collecting PySocks!=1.5.7,>=1.5.6; extra == \"socks\"\n",
      "  Downloading PySocks-1.7.1-py3-none-any.whl (16 kB)\n",
      "Installing collected packages: oauthlib, requests-oauthlib, tweepy, PySocks\n",
      "Successfully installed PySocks-1.7.1 oauthlib-3.1.0 requests-oauthlib-1.3.0 tweepy-3.10.0\n"
     ]
    }
   ],
   "source": [
    "import sys\n",
    "!{sys.executable} -m pip install tweepy"
   ]
  },
  {
   "cell_type": "code",
   "execution_count": 15,
   "metadata": {
    "collapsed": true
   },
   "outputs": [],
   "source": [
    "import tweepy"
   ]
  },
  {
   "cell_type": "code",
   "execution_count": null,
   "metadata": {
    "collapsed": true
   },
   "outputs": [],
   "source": []
  }
 ],
 "metadata": {
  "kernelspec": {
   "display_name": "gt",
   "language": "python",
   "name": "gt"
  },
  "language_info": {
   "codemirror_mode": {
    "name": "ipython",
    "version": 3
   },
   "file_extension": ".py",
   "mimetype": "text/x-python",
   "name": "python",
   "nbconvert_exporter": "python",
   "pygments_lexer": "ipython3",
   "version": "3.8.5"
  }
 },
 "nbformat": 4,
 "nbformat_minor": 2
}
